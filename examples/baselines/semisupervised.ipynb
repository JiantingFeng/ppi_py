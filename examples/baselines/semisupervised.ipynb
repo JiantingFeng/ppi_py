{
 "cells": [
  {
   "cell_type": "code",
   "execution_count": 1,
   "id": "4f57ecd3",
   "metadata": {},
   "outputs": [],
   "source": [
    "%load_ext autoreload\n",
    "%autoreload 2\n",
    "import os, sys\n",
    "\n",
    "sys.path.append(\n",
    "    os.path.abspath(os.path.join(os.getcwd(), os.pardir, os.pardir))\n",
    ")\n",
    "import numpy as np\n",
    "import pandas as pd\n",
    "from ppi_py.datasets import load_dataset\n",
    "from ppi_py import ppi_mean_ci, semisupervised_mean_ci, classical_mean_ci\n",
    "from tqdm import tqdm\n",
    "from scipy.optimize import brentq\n",
    "from utils import *"
   ]
  },
  {
   "cell_type": "markdown",
   "id": "5cf90ae6",
   "metadata": {},
   "source": [
    "# Import the census data set"
   ]
  },
  {
   "cell_type": "code",
   "execution_count": 2,
   "id": "a6da3138",
   "metadata": {},
   "outputs": [],
   "source": [
    "dataset_folder = \"../data/\"\n",
    "data = load_dataset(dataset_folder, \"census_income\")\n",
    "Y_total = data[\"Y\"]\n",
    "Yhat_total = data[\"Yhat\"]\n",
    "X_total = data[\"X\"]"
   ]
  },
  {
   "cell_type": "markdown",
   "id": "8969f9db",
   "metadata": {},
   "source": [
    "# Problem setup"
   ]
  },
  {
   "cell_type": "code",
   "execution_count": 3,
   "id": "5b3c8f29",
   "metadata": {},
   "outputs": [],
   "source": [
    "alpha = 0.1\n",
    "n_total = Y_total.shape[0]  # Total number of labeled examples\n",
    "ns = np.linspace(50, 1000, 10).astype(\n",
    "    int\n",
    ")  # Test for different numbers of labeled examples\n",
    "num_trials = 50\n",
    "K = 5  # Folds for semisupervised\n",
    "\n",
    "# True mean (computed on all labels)\n",
    "true_theta = Y_total.mean()"
   ]
  },
  {
   "cell_type": "markdown",
   "id": "83ce18be",
   "metadata": {},
   "source": [
    "# Construct intervals"
   ]
  },
  {
   "cell_type": "code",
   "execution_count": 4,
   "id": "812f8fd5",
   "metadata": {},
   "outputs": [
    {
     "name": "stderr",
     "output_type": "stream",
     "text": [
      "100%|████████████████████████████████████████████████████████████████████████████████████████████████████████████████████████████████████████████████████| 10/10 [00:19<00:00,  1.95s/it]\n"
     ]
    }
   ],
   "source": [
    "# Run prediction-powered inference and classical inference for many values of n\n",
    "results = []\n",
    "for i in tqdm(range(ns.shape[0])):\n",
    "    for j in range(num_trials):\n",
    "        # Prediction-Powered Inference\n",
    "        n = ns[i]\n",
    "        rand_idx = np.random.permutation(n_total)\n",
    "        _Yhat = Yhat_total[rand_idx[:n]]\n",
    "        _Y = Y_total[rand_idx[:n]]\n",
    "        _X = X_total[rand_idx[:n]]\n",
    "        _X_unlabeled = X_total[rand_idx[n:]]\n",
    "        _Yhat_unlabeled = Yhat_total[rand_idx[n:]]\n",
    "\n",
    "        # PPI interval\n",
    "        ppi_ci = ppi_mean_ci(_Y, _Yhat, _Yhat_unlabeled, alpha=alpha)\n",
    "\n",
    "        # Semisupervised interval\n",
    "        semisupervised_ci = semisupervised_mean_ci(\n",
    "            _X, _Y, _X_unlabeled, K, alpha=alpha\n",
    "        )\n",
    "\n",
    "        # Classical interval\n",
    "        classical_ci = classical_mean_ci(_Y, alpha=alpha)\n",
    "\n",
    "        # Append results\n",
    "        results += [\n",
    "            pd.DataFrame(\n",
    "                [\n",
    "                    {\n",
    "                        \"method\": \"PPI\",\n",
    "                        \"n\": n,\n",
    "                        \"lower\": ppi_ci[0],\n",
    "                        \"upper\": ppi_ci[1],\n",
    "                        \"trial\": j,\n",
    "                    }\n",
    "                ]\n",
    "            )\n",
    "        ]\n",
    "\n",
    "        results += [\n",
    "            pd.DataFrame(\n",
    "                [\n",
    "                    {\n",
    "                        \"method\": \"Baseline\",  # Semisupervised baseline\n",
    "                        \"n\": n,\n",
    "                        \"lower\": semisupervised_ci[0],\n",
    "                        \"upper\": semisupervised_ci[1],\n",
    "                        \"trial\": j,\n",
    "                    }\n",
    "                ]\n",
    "            )\n",
    "        ]\n",
    "\n",
    "        results += [\n",
    "            pd.DataFrame(\n",
    "                [\n",
    "                    {\n",
    "                        \"method\": \"Classical\",\n",
    "                        \"n\": n,\n",
    "                        \"lower\": classical_ci[0],\n",
    "                        \"upper\": classical_ci[1],\n",
    "                        \"trial\": j,\n",
    "                    }\n",
    "                ]\n",
    "            )\n",
    "        ]\n",
    "\n",
    "df = pd.concat(results, axis=0, ignore_index=True)\n",
    "df[\"width\"] = df[\"upper\"] - df[\"lower\"]"
   ]
  },
  {
   "cell_type": "markdown",
   "id": "d15ba288",
   "metadata": {},
   "source": [
    "# Plot results"
   ]
  },
  {
   "cell_type": "code",
   "execution_count": 5,
   "id": "6077b2c4",
   "metadata": {},
   "outputs": [
    {
     "data": {
      "image/png": "[encoded data removed]",
      "text/plain": [
       "<Figure size 648x216 with 3 Axes>"
      ]
     },
     "metadata": {
      "needs_background": "light"
     },
     "output_type": "display_data"
    }
   ],
   "source": [
    "make_plots(\n",
    "    df,\n",
    "    \"./plots/semisupervised_census_income.pdf\",\n",
    "    n_idx=-1,\n",
    "    intervals_xlabel=\"Income\",\n",
    "    true_theta=true_theta,\n",
    ")"
   ]
  },
  {
   "cell_type": "code",
   "execution_count": 6,
   "id": "5f48895b",
   "metadata": {},
   "outputs": [],
   "source": [
    "# Find n such that we reject H0: income < 30K with probability 80% using a test at level alpha\n",
    "num_experiments = 100\n",
    "list_rand_idx = [\n",
    "    np.random.permutation(n_total) for i in range(num_experiments)\n",
    "]\n",
    "\n",
    "\n",
    "def _to_invert_ppi(n):\n",
    "    n = int(n)\n",
    "    nulls_rejected = 0\n",
    "    # Data setup\n",
    "    for i in range(num_experiments):\n",
    "        rand_idx = list_rand_idx[i]\n",
    "        _Yhat = Yhat_total[rand_idx[:n]]\n",
    "        _Y = Y_total[rand_idx[:n]]\n",
    "        _Yhat_unlabeled = Yhat_total[rand_idx[n:]]\n",
    "\n",
    "        ppi_ci = ppi_mean_ci(_Y, _Yhat, _Yhat_unlabeled, alpha=0.05)\n",
    "        if ppi_ci[0] > 30000:\n",
    "            nulls_rejected += 1\n",
    "    return nulls_rejected / num_experiments - 0.8\n",
    "\n",
    "\n",
    "def _to_invert_semisupervised(n):\n",
    "    n = int(n)\n",
    "    nulls_rejected = 0\n",
    "    # Data setup\n",
    "    for i in range(num_experiments):\n",
    "        rand_idx = list_rand_idx[i]\n",
    "        _Y = Y_total[rand_idx[:n]]\n",
    "        _X = X_total[rand_idx[:n]]\n",
    "        _X_unlabeled = X_total[rand_idx[n:]]\n",
    "\n",
    "        semisupervised_ci = semisupervised_mean_ci(\n",
    "            _X, _Y, _X_unlabeled, K, alpha=0.05\n",
    "        )\n",
    "\n",
    "        if semisupervised_ci[0] > 30000:\n",
    "            nulls_rejected += 1\n",
    "    return nulls_rejected / num_experiments - 0.8\n",
    "\n",
    "\n",
    "def _to_invert_classical(n):\n",
    "    n = int(n)\n",
    "    nulls_rejected = 0\n",
    "    # Data setup\n",
    "    for i in range(num_experiments):\n",
    "        rand_idx = list_rand_idx[i]\n",
    "        _Y = Y_total[rand_idx[:n]]\n",
    "\n",
    "        classical_ci = classical_mean_ci(_Y, alpha=0.05)\n",
    "\n",
    "        if classical_ci[0] > 30000:\n",
    "            nulls_rejected += 1\n",
    "    return nulls_rejected / num_experiments - 0.8"
   ]
  },
  {
   "cell_type": "code",
   "execution_count": 7,
   "id": "7aa3bf9d",
   "metadata": {},
   "outputs": [
    {
     "name": "stderr",
     "output_type": "stream",
     "text": [
      "/Users/angelopoulos/Code/working/ppi_py/ppi_py/baselines.py:65: RuntimeWarning: Mean of empty slice.\n",
      "  * (beta_fold.dot(Vhat_fold.T) * epsilon_hats[fold_indices]).mean()\n",
      "/Users/angelopoulos/miniconda3/lib/python3.9/site-packages/numpy/core/_methods.py:190: RuntimeWarning: invalid value encountered in double_scalars\n",
      "  ret = ret.dtype.type(ret / rcount)\n",
      "/Users/angelopoulos/Code/working/ppi_py/ppi_py/baselines.py:68: RuntimeWarning: Mean of empty slice.\n",
      "  2 * beta_fold.dot(Vhat_fold.T).mean()\n"
     ]
    },
    {
     "name": "stdout",
     "output_type": "stream",
     "text": [
      "The PPI test requires n=118 labeled data points to reject the null.\n",
      "The semisupervised test requires n=201 labeled data points to reject the null.\n",
      "The classical test requires n=226 labeled data points to reject the null.\n"
     ]
    }
   ],
   "source": [
    "n_ppi = int(brentq(_to_invert_ppi, 1, 5000, xtol=1))\n",
    "n_semisupervised = int(brentq(_to_invert_semisupervised, 1, 5000, xtol=1))\n",
    "n_classical = int(brentq(_to_invert_classical, 1, 5000, xtol=1))\n",
    "print(\n",
    "    f\"The PPI test requires n={n_ppi} labeled data points to reject the null.\"\n",
    ")\n",
    "print(\n",
    "    f\"The semisupervised test requires n={n_semisupervised} labeled data points to reject the null.\"\n",
    ")\n",
    "print(\n",
    "    f\"The classical test requires n={n_classical} labeled data points to reject the null.\"\n",
    ")"
   ]
  }
 ],
 "metadata": {
  "kernelspec": {
   "display_name": "Python 3 (ipykernel)",
   "language": "python",
   "name": "python3"
  },
  "language_info": {
   "codemirror_mode": {
    "name": "ipython",
    "version": 3
   },
   "file_extension": ".py",
   "mimetype": "text/x-python",
   "name": "python",
   "nbconvert_exporter": "python",
   "pygments_lexer": "ipython3",
   "version": "3.9.12"
  }
 },
 "nbformat": 4,
 "nbformat_minor": 5
}
