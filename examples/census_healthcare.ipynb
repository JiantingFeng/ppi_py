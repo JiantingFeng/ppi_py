{
 "cells": [
  {
   "cell_type": "code",
   "execution_count": 11,
   "id": "4f57ecd3",
   "metadata": {},
   "outputs": [],
   "source": [
    "import os, sys\n",
    "sys.path.append(os.path.abspath(os.path.join(os.getcwd(), os.pardir)))\n",
    "import numpy as np\n",
    "import pandas as pd\n",
    "from ppi_py.datasets import load_dataset\n",
    "from ppi_py import ppi_logistic_ci, classical_logistic_ci\n",
    "from sklearn.linear_model import LogisticRegression\n",
    "from tqdm import tqdm\n",
    "from utils import *"
   ]
  },
  {
   "cell_type": "markdown",
   "id": "5cf90ae6",
   "metadata": {},
   "source": [
    "# Import the census income data set"
   ]
  },
  {
   "cell_type": "code",
   "execution_count": 3,
   "id": "a6da3138",
   "metadata": {},
   "outputs": [
    {
     "name": "stdout",
     "output_type": "stream",
     "text": [
      "Dataset census_healthcare not found at location ./data/; downloading now...\n"
     ]
    },
    {
     "name": "stderr",
     "output_type": "stream",
     "text": [
      "Downloading...\n",
      "From: https://drive.google.com/uc?id=1RjWsnq-gMngRFRj22DvezcdCVl2MxAIX\n",
      "To: /Users/angelopoulos/Code/working/ppi_py/examples/data/census_healthcare.npz\n",
      "100%|██████████| 8.91M/8.91M [00:00<00:00, 9.57MB/s]\n"
     ]
    }
   ],
   "source": [
    "dataset_folder = \"./data/\"\n",
    "data = load_dataset(dataset_folder, \"census_healthcare\")\n",
    "Y_total = data[\"Y\"]\n",
    "Yhat_total = data[\"Yhat\"]\n",
    "X_total = data[\"X\"]"
   ]
  },
  {
   "cell_type": "markdown",
   "id": "8969f9db",
   "metadata": {},
   "source": [
    "# Problem setup"
   ]
  },
  {
   "cell_type": "code",
   "execution_count": 10,
   "id": "5b3c8f29",
   "metadata": {},
   "outputs": [],
   "source": [
    "alpha = 0.05\n",
    "coordinate = 0 # Choose between 0, 1\n",
    "n_total = Y_total.shape[0]  # Total number of labeled examples\n",
    "ns = np.linspace(100, 2000, 10).astype(\n",
    "    int\n",
    ")  # Test for different numbers of labeled ballots\n",
    "num_trials = 50\n",
    "# Compute ground truth\n",
    "true_theta = LogisticRegression(\n",
    "    penalty=\"none\",\n",
    "    solver=\"lbfgs\",\n",
    "    max_iter=10000,\n",
    "    tol=1e-15,\n",
    "    fit_intercept=False,\n",
    ").fit(X_total, Y_total).coef_.squeeze()[coordinate]"
   ]
  },
  {
   "cell_type": "markdown",
   "id": "83ce18be",
   "metadata": {},
   "source": [
    "# Construct intervals"
   ]
  },
  {
   "cell_type": "code",
   "execution_count": 13,
   "id": "812f8fd5",
   "metadata": {},
   "outputs": [
    {
     "name": "stderr",
     "output_type": "stream",
     "text": [
      "  0%|                                                                                          | 0/50 [13:40<?, ?it/s]\n"
     ]
    },
    {
     "ename": "KeyboardInterrupt",
     "evalue": "",
     "output_type": "error",
     "traceback": [
      "\u001b[0;31m---------------------------------------------------------------------------\u001b[0m",
      "\u001b[0;31mKeyboardInterrupt\u001b[0m                         Traceback (most recent call last)",
      "Input \u001b[0;32mIn [13]\u001b[0m, in \u001b[0;36m<cell line: 3>\u001b[0;34m()\u001b[0m\n\u001b[1;32m      9\u001b[0m _Y, _Y_unlabeled \u001b[38;5;241m=\u001b[39m Y_total[rand_idx[:n]], Y_total[rand_idx[n:]]\n\u001b[1;32m     10\u001b[0m _Yhat, _Yhat_unlabeled \u001b[38;5;241m=\u001b[39m Yhat_total[rand_idx[:n]], Yhat_total[rand_idx[n:]]\n\u001b[0;32m---> 12\u001b[0m ppi_ci \u001b[38;5;241m=\u001b[39m \u001b[43mppi_logistic_ci\u001b[49m\u001b[43m(\u001b[49m\u001b[43m_X\u001b[49m\u001b[43m,\u001b[49m\u001b[43m \u001b[49m\u001b[43m_Y\u001b[49m\u001b[43m,\u001b[49m\u001b[43m \u001b[49m\u001b[43m_Yhat\u001b[49m\u001b[43m,\u001b[49m\u001b[43m \u001b[49m\u001b[43m_X_unlabeled\u001b[49m\u001b[43m,\u001b[49m\u001b[43m \u001b[49m\u001b[43m_Yhat_unlabeled\u001b[49m\u001b[43m,\u001b[49m\u001b[43m \u001b[49m\u001b[43malpha\u001b[49m\u001b[38;5;241;43m=\u001b[39;49m\u001b[43malpha\u001b[49m\u001b[43m)\u001b[49m\n\u001b[1;32m     14\u001b[0m \u001b[38;5;66;03m# Classical interval\u001b[39;00m\n\u001b[1;32m     15\u001b[0m classical_ci \u001b[38;5;241m=\u001b[39m classical_logistic_ci(_X, _Y, alpha\u001b[38;5;241m=\u001b[39malpha)\n",
      "File \u001b[0;32m~/Code/working/ppi_py/ppi_py/ppi.py:266\u001b[0m, in \u001b[0;36mppi_logistic_ci\u001b[0;34m(X, Y, Yhat, X_unlabeled, Yhat_unlabeled, alpha, grid_size, grid_radius)\u001b[0m\n\u001b[1;32m    264\u001b[0m d \u001b[38;5;241m=\u001b[39m X\u001b[38;5;241m.\u001b[39mshape[\u001b[38;5;241m1\u001b[39m]\n\u001b[1;32m    265\u001b[0m N \u001b[38;5;241m=\u001b[39m Yhat_unlabeled\u001b[38;5;241m.\u001b[39mshape[\u001b[38;5;241m0\u001b[39m]\n\u001b[0;32m--> 266\u001b[0m ppi_pointest \u001b[38;5;241m=\u001b[39m \u001b[43mppi_logistic_pointestimate\u001b[49m\u001b[43m(\u001b[49m\n\u001b[1;32m    267\u001b[0m \u001b[43m    \u001b[49m\u001b[43mX\u001b[49m\u001b[43m,\u001b[49m\u001b[43m \u001b[49m\u001b[43mY\u001b[49m\u001b[43m,\u001b[49m\u001b[43m \u001b[49m\u001b[43mYhat\u001b[49m\u001b[43m,\u001b[49m\u001b[43m \u001b[49m\u001b[43mX_unlabeled\u001b[49m\u001b[43m,\u001b[49m\u001b[43m \u001b[49m\u001b[43mYhat_unlabeled\u001b[49m\n\u001b[1;32m    268\u001b[0m \u001b[43m\u001b[49m\u001b[43m)\u001b[49m\n\u001b[1;32m    269\u001b[0m rectifier \u001b[38;5;241m=\u001b[39m \u001b[38;5;241m1\u001b[39m \u001b[38;5;241m/\u001b[39m n \u001b[38;5;241m*\u001b[39m X\u001b[38;5;241m.\u001b[39mT \u001b[38;5;241m@\u001b[39m (Yhat \u001b[38;5;241m-\u001b[39m Y)\n\u001b[1;32m    270\u001b[0m rectifier_std \u001b[38;5;241m=\u001b[39m np\u001b[38;5;241m.\u001b[39mstd(X \u001b[38;5;241m*\u001b[39m (Yhat \u001b[38;5;241m-\u001b[39m Y)[:, \u001b[38;5;28;01mNone\u001b[39;00m], axis\u001b[38;5;241m=\u001b[39m\u001b[38;5;241m0\u001b[39m)\n",
      "File \u001b[0;32m~/Code/working/ppi_py/ppi_py/ppi.py:248\u001b[0m, in \u001b[0;36mppi_logistic_pointestimate\u001b[0;34m(X, Y, Yhat, X_unlabeled, Yhat_unlabeled, step_size, grad_tol)\u001b[0m\n\u001b[1;32m    246\u001b[0m \u001b[38;5;28;01mwhile\u001b[39;00m np\u001b[38;5;241m.\u001b[39mlinalg\u001b[38;5;241m.\u001b[39mnorm(grad) \u001b[38;5;241m>\u001b[39m grad_tol:\n\u001b[1;32m    247\u001b[0m     mu_theta \u001b[38;5;241m=\u001b[39m expit(X_unlabeled \u001b[38;5;241m@\u001b[39m theta)\n\u001b[0;32m--> 248\u001b[0m     grad \u001b[38;5;241m=\u001b[39m \u001b[38;5;241;43m1\u001b[39;49m\u001b[43m \u001b[49m\u001b[38;5;241;43m/\u001b[39;49m\u001b[43m \u001b[49m\u001b[43mN\u001b[49m\u001b[43m \u001b[49m\u001b[38;5;241;43m*\u001b[39;49m\u001b[43m \u001b[49m\u001b[43mX_unlabeled\u001b[49m\u001b[38;5;241;43m.\u001b[39;49m\u001b[43mT\u001b[49m\u001b[43m \u001b[49m\u001b[38;5;241;43m@\u001b[39;49m\u001b[43m \u001b[49m\u001b[43m(\u001b[49m\u001b[43mmu_theta\u001b[49m\u001b[43m \u001b[49m\u001b[38;5;241;43m-\u001b[39;49m\u001b[43m \u001b[49m\u001b[43mYhat_unlabeled\u001b[49m\u001b[43m)\u001b[49m \u001b[38;5;241m+\u001b[39m rectifier\n\u001b[1;32m    249\u001b[0m     theta \u001b[38;5;241m-\u001b[39m\u001b[38;5;241m=\u001b[39m step_size \u001b[38;5;241m*\u001b[39m grad\n\u001b[1;32m    250\u001b[0m \u001b[38;5;28;01mreturn\u001b[39;00m theta\n",
      "\u001b[0;31mKeyboardInterrupt\u001b[0m: "
     ]
    }
   ],
   "source": [
    "# Run prediction-powered inference and classical inference for many values of n\n",
    "results = []\n",
    "for i in range(ns.shape[0]):\n",
    "    for j in tqdm(range(num_trials)):\n",
    "        # Prediction-Powered Inference\n",
    "        n = ns[i]\n",
    "        rand_idx = np.random.permutation(n_total)\n",
    "        _X, _X_unlabeled = X_total[rand_idx[:n]], X_total[rand_idx[n:]]\n",
    "        _Y, _Y_unlabeled = Y_total[rand_idx[:n]], Y_total[rand_idx[n:]]\n",
    "        _Yhat, _Yhat_unlabeled = Yhat_total[rand_idx[:n]], Yhat_total[rand_idx[n:]]\n",
    "        \n",
    "        ppi_ci = ppi_logistic_ci(_X, _Y, _Yhat, _X_unlabeled, _Yhat_unlabeled, alpha=alpha)\n",
    "\n",
    "        # Classical interval\n",
    "        classical_ci = classical_logistic_ci(_X, _Y, alpha=alpha)\n",
    "\n",
    "        # Append results\n",
    "        results += [\n",
    "            pd.DataFrame(\n",
    "                [\n",
    "                    {\n",
    "                        \"method\": \"PPI\",\n",
    "                        \"n\": n,\n",
    "                        \"lower\": ppi_ci[0][coordinate],\n",
    "                        \"upper\": ppi_ci[1][coordinate],\n",
    "                        \"trial\": j,\n",
    "                    }\n",
    "                ]\n",
    "            )\n",
    "        ]\n",
    "        results += [\n",
    "            pd.DataFrame(\n",
    "                [\n",
    "                    {\n",
    "                        \"method\": \"Classical\",\n",
    "                        \"n\": n,\n",
    "                        \"lower\": classical_ci[0][coordinate],\n",
    "                        \"upper\": classical_ci[1][coordinate],\n",
    "                        \"trial\": j,\n",
    "                    }\n",
    "                ]\n",
    "            )\n",
    "        ]\n",
    "\n",
    "# Imputed CI\n",
    "imputed_ci = classical_logistic_ci(X_total, Yhat_total, alpha=alpha)\n",
    "results += [\n",
    "    pd.DataFrame(\n",
    "        [\n",
    "            {\n",
    "                \"method\": \"Imputation\",\n",
    "                \"n\": np.nan,\n",
    "                \"lower\": imputed_ci[0][coordinate],\n",
    "                \"upper\": imputed_ci[1][coordinate],\n",
    "                \"trial\": 0,\n",
    "            }\n",
    "        ]\n",
    "    )\n",
    "]\n",
    "\n",
    "df = pd.concat(results, axis=0, ignore_index=True)\n",
    "df[\"width\"] = df[\"upper\"] - df[\"lower\"]"
   ]
  },
  {
   "cell_type": "markdown",
   "id": "d15ba288",
   "metadata": {},
   "source": [
    "# Plot results"
   ]
  },
  {
   "cell_type": "code",
   "execution_count": null,
   "id": "6077b2c4",
   "metadata": {},
   "outputs": [],
   "source": [
    "make_plots(\n",
    "    df,\n",
    "    \"./plots/census_healthcare.pdf\",\n",
    "    intervals_xlabel=\"Logistic coeff\",\n",
    "    true_theta=true_theta,\n",
    ")"
   ]
  }
 ],
 "metadata": {
  "kernelspec": {
   "display_name": "Python 3 (ipykernel)",
   "language": "python",
   "name": "python3"
  },
  "language_info": {
   "codemirror_mode": {
    "name": "ipython",
    "version": 3
   },
   "file_extension": ".py",
   "mimetype": "text/x-python",
   "name": "python",
   "nbconvert_exporter": "python",
   "pygments_lexer": "ipython3",
   "version": "3.9.12"
  }
 },
 "nbformat": 4,
 "nbformat_minor": 5
}
