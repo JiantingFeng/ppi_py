{
 "cells": [
  {
   "cell_type": "code",
   "execution_count": 1,
   "id": "4f57ecd3",
   "metadata": {},
   "outputs": [],
   "source": [
    "%load_ext autoreload\n",
    "%autoreload 2\n",
    "import os, sys\n",
    "sys.path.append(os.path.abspath(os.path.join(os.getcwd(), os.pardir)))\n",
    "import numpy as np\n",
    "import pandas as pd\n",
    "from ppi_py.datasets import load_dataset\n",
    "from ppi_py import ppi_logistic_ci, classical_logistic_ci\n",
    "from sklearn.linear_model import LogisticRegression\n",
    "from tqdm import tqdm\n",
    "from scipy.optimize import brentq\n",
    "from utils import *"
   ]
  },
  {
   "cell_type": "markdown",
   "id": "5cf90ae6",
   "metadata": {},
   "source": [
    "# Import the census income data set"
   ]
  },
  {
   "cell_type": "code",
   "execution_count": 2,
   "id": "a6da3138",
   "metadata": {},
   "outputs": [],
   "source": [
    "dataset_folder = \"./data/\"\n",
    "data = load_dataset(dataset_folder, \"census_healthcare\")\n",
    "Y_total = data[\"Y\"]\n",
    "Yhat_total = data[\"Yhat\"]\n",
    "X_total = data[\"X\"]"
   ]
  },
  {
   "cell_type": "markdown",
   "id": "8969f9db",
   "metadata": {},
   "source": [
    "# Problem setup"
   ]
  },
  {
   "cell_type": "code",
   "execution_count": 3,
   "id": "5b3c8f29",
   "metadata": {},
   "outputs": [],
   "source": [
    "alpha = 0.05\n",
    "coordinate = 0 # Choose between 0, 1\n",
    "n_total = Y_total.shape[0]  # Total number of labeled examples\n",
    "ns = np.linspace(100, 2000, 3).astype(\n",
    "    int\n",
    ")  # Test for different numbers of labeled ballots\n",
    "num_trials = 10\n",
    "# Compute ground truth\n",
    "true_theta = LogisticRegression(\n",
    "    penalty=\"none\",\n",
    "    solver=\"lbfgs\",\n",
    "    max_iter=10000,\n",
    "    tol=1e-15,\n",
    "    fit_intercept=False,\n",
    ").fit(X_total, Y_total).coef_.squeeze()[coordinate]"
   ]
  },
  {
   "cell_type": "markdown",
   "id": "83ce18be",
   "metadata": {},
   "source": [
    "# Construct intervals"
   ]
  },
  {
   "cell_type": "code",
   "execution_count": 4,
   "id": "812f8fd5",
   "metadata": {},
   "outputs": [
    {
     "name": "stderr",
     "output_type": "stream",
     "text": [
      "100%|█████████████████████████████████████████████████████████████████████████████████████████████████████████████████████████████████████████████████████████| 10/10 [03:43<00:00, 22.40s/it]\n",
      "100%|█████████████████████████████████████████████████████████████████████████████████████████████████████████████████████████████████████████████████████████| 10/10 [01:23<00:00,  8.36s/it]\n",
      "100%|█████████████████████████████████████████████████████████████████████████████████████████████████████████████████████████████████████████████████████████| 10/10 [01:21<00:00,  8.18s/it]\n"
     ]
    }
   ],
   "source": [
    "# Run prediction-powered inference and classical inference for many values of n\n",
    "results = []\n",
    "for i in range(ns.shape[0]):\n",
    "    for j in tqdm(range(num_trials)):\n",
    "        # Prediction-Powered Inference\n",
    "        n = ns[i]\n",
    "        rand_idx = np.random.permutation(n_total)\n",
    "        _X, _X_unlabeled = X_total[rand_idx[:n]], X_total[rand_idx[n:]]\n",
    "        _Y, _Y_unlabeled = Y_total[rand_idx[:n]], Y_total[rand_idx[n:]]\n",
    "        _Yhat, _Yhat_unlabeled = Yhat_total[rand_idx[:n]], Yhat_total[rand_idx[n:]]\n",
    "        \n",
    "        ppi_ci = ppi_logistic_ci(_X, _Y, _Yhat, _X_unlabeled, _Yhat_unlabeled, alpha=alpha, grid_relative=True, grid_radius=5, step_size=1e-10, grad_tol=1e-1)\n",
    "        \n",
    "        # Classical interval\n",
    "        classical_ci = classical_logistic_ci(_X, _Y, alpha=alpha)\n",
    "\n",
    "        # Append results\n",
    "        results += [\n",
    "            pd.DataFrame(\n",
    "                [\n",
    "                    {\n",
    "                        \"method\": \"PPI\",\n",
    "                        \"n\": n,\n",
    "                        \"lower\": ppi_ci[0][coordinate],\n",
    "                        \"upper\": ppi_ci[1][coordinate],\n",
    "                        \"trial\": j,\n",
    "                    }\n",
    "                ]\n",
    "            )\n",
    "        ]\n",
    "        results += [\n",
    "            pd.DataFrame(\n",
    "                [\n",
    "                    {\n",
    "                        \"method\": \"Classical\",\n",
    "                        \"n\": n,\n",
    "                        \"lower\": classical_ci[0][coordinate],\n",
    "                        \"upper\": classical_ci[1][coordinate],\n",
    "                        \"trial\": j,\n",
    "                    }\n",
    "                ]\n",
    "            )\n",
    "        ]\n",
    "\n",
    "# Imputed CI\n",
    "imputed_ci = classical_logistic_ci(X_total, (Yhat_total > 0.5).astype(int), alpha=alpha)\n",
    "results += [\n",
    "    pd.DataFrame(\n",
    "        [\n",
    "            {\n",
    "                \"method\": \"Imputation\",\n",
    "                \"n\": np.nan,\n",
    "                \"lower\": imputed_ci[0][coordinate],\n",
    "                \"upper\": imputed_ci[1][coordinate],\n",
    "                \"trial\": 0,\n",
    "            }\n",
    "        ]\n",
    "    )\n",
    "]\n",
    "\n",
    "df = pd.concat(results, axis=0, ignore_index=True)\n",
    "df[\"width\"] = df[\"upper\"] - df[\"lower\"]"
   ]
  },
  {
   "cell_type": "markdown",
   "id": "d15ba288",
   "metadata": {},
   "source": [
    "# Plot results"
   ]
  },
  {
   "cell_type": "code",
   "execution_count": 5,
   "id": "6077b2c4",
   "metadata": {},
   "outputs": [
    {
     "data": {
      "image/png": "[encoded data removed]",
      "text/plain": [
       "<Figure size 648x216 with 3 Axes>"
      ]
     },
     "metadata": {
      "needs_background": "light"
     },
     "output_type": "display_data"
    }
   ],
   "source": [
    "make_plots(\n",
    "    df,\n",
    "    \"./plots/census_healthcare.pdf\",\n",
    "    intervals_xlabel=\"Logistic coeff\",\n",
    "    n_idx=-1,\n",
    "    true_theta=true_theta,\n",
    ")"
   ]
  },
  {
   "cell_type": "code",
   "execution_count": 7,
   "id": "c4fd41f6",
   "metadata": {},
   "outputs": [],
   "source": [
    "# Find n such that we reject H0: Logistic coeff < 0.5*1e-5 with probability 80% using a test at level alpha\n",
    "num_experiments = 10\n",
    "list_rand_idx = [np.random.permutation(n_total) for i in range(num_experiments)]\n",
    "\n",
    "def _to_invert_ppi(n):\n",
    "    n = int(n)\n",
    "    nulls_rejected = 0\n",
    "    # Data setup\n",
    "    for i in range(num_experiments):\n",
    "        rand_idx = list_rand_idx[i]\n",
    "        _X, _X_unlabeled = X_total[rand_idx[:n]], X_total[rand_idx[n:]]\n",
    "        _Y, _Y_unlabeled = Y_total[rand_idx[:n]], Y_total[rand_idx[n:]]\n",
    "        _Yhat, _Yhat_unlabeled = Yhat_total[rand_idx[:n]], Yhat_total[rand_idx[n:]]\n",
    "        \n",
    "        ppi_ci = ppi_logistic_ci(_X, _Y, _Yhat, _X_unlabeled, _Yhat_unlabeled, alpha=alpha, grid_relative=True, grid_radius=5, step_size=1e-10, grad_tol=1e-1)\n",
    "        if ppi_ci[0][coordinate] > 1.5e-5:\n",
    "            nulls_rejected += 1\n",
    "    return nulls_rejected/num_experiments - 0.8\n",
    "\n",
    "def _to_invert_classical(n):\n",
    "    n = int(n)\n",
    "    nulls_rejected = 0\n",
    "    # Data setup\n",
    "    for i in range(num_experiments):\n",
    "        rand_idx = list_rand_idx[i]\n",
    "        _X, _X_unlabeled = X_total[rand_idx[:n]], X_total[rand_idx[n:]]\n",
    "        _Y, _Y_unlabeled = Y_total[rand_idx[:n]], Y_total[rand_idx[n:]]\n",
    "        _Yhat, _Yhat_unlabeled = Yhat_total[rand_idx[:n]], Yhat_total[rand_idx[n:]]\n",
    "        \n",
    "        classical_ci = classical_logistic_ci(_X, _Y, alpha=alpha)\n",
    "        if classical_ci[0][coordinate] > 1.5e-5:\n",
    "            nulls_rejected += 1\n",
    "    return nulls_rejected/num_experiments - 0.8"
   ]
  },
  {
   "cell_type": "code",
   "execution_count": 8,
   "id": "8ca727f2",
   "metadata": {},
   "outputs": [
    {
     "name": "stdout",
     "output_type": "stream",
     "text": [
      "The PPI test requires n=2000 labeled data points to reject the null.\n",
      "The classical test requires n=11708 labeled data points to reject the null.\n"
     ]
    }
   ],
   "source": [
    "n_ppi = int(brentq(_to_invert_ppi, 100, 2000, xtol=100))\n",
    "n_classical = int(brentq(_to_invert_classical, 100, 20000, xtol=100))\n",
    "print(f\"The PPI test requires n={n_ppi} labeled data points to reject the null.\")\n",
    "print(f\"The classical test requires n={n_classical} labeled data points to reject the null.\")"
   ]
  }
 ],
 "metadata": {
  "kernelspec": {
   "display_name": "Python 3 (ipykernel)",
   "language": "python",
   "name": "python3"
  },
  "language_info": {
   "codemirror_mode": {
    "name": "ipython",
    "version": 3
   },
   "file_extension": ".py",
   "mimetype": "text/x-python",
   "name": "python",
   "nbconvert_exporter": "python",
   "pygments_lexer": "ipython3",
   "version": "3.9.12"
  }
 },
 "nbformat": 4,
 "nbformat_minor": 5
}
