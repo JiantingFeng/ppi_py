{
 "cells": [
  {
   "cell_type": "code",
   "execution_count": 7,
   "id": "4f57ecd3",
   "metadata": {},
   "outputs": [
    {
     "name": "stdout",
     "output_type": "stream",
     "text": [
      "The autoreload extension is already loaded. To reload it, use:\n",
      "  %reload_ext autoreload\n"
     ]
    }
   ],
   "source": [
    "%load_ext autoreload\n",
    "%autoreload 2\n",
    "import os, sys\n",
    "sys.path.append(os.path.abspath(os.path.join(os.getcwd(), os.pardir)))\n",
    "import numpy as np\n",
    "import pandas as pd\n",
    "from ppi_py.datasets import load_dataset\n",
    "from ppi_py import ppi_quantile_ci, classical_quantile_ci\n",
    "from tqdm import tqdm\n",
    "from utils import *"
   ]
  },
  {
   "cell_type": "markdown",
   "id": "5cf90ae6",
   "metadata": {},
   "source": [
    "# Import the gene expression data set"
   ]
  },
  {
   "cell_type": "code",
   "execution_count": 8,
   "id": "a6da3138",
   "metadata": {},
   "outputs": [],
   "source": [
    "dataset_folder = './data/'\n",
    "data = load_dataset(dataset_folder, 'gene_expression')\n",
    "Y_total = data['Y']\n",
    "Yhat_total = data['Yhat']"
   ]
  },
  {
   "cell_type": "markdown",
   "id": "8969f9db",
   "metadata": {},
   "source": [
    "# Problem setup"
   ]
  },
  {
   "cell_type": "code",
   "execution_count": 16,
   "id": "5b3c8f29",
   "metadata": {},
   "outputs": [],
   "source": [
    "alpha = 0.05\n",
    "n_total = Y_total.shape[0] # Total number of labeled examples\n",
    "ns = np.linspace(100,2000,5).astype(int) # Test for different numbers of labeled examples\n",
    "num_trials = 50\n",
    "\n",
    "# True quantiles (computed on all data)\n",
    "true_quantile_q25 = np.quantile(Y_total, 0.25)\n",
    "true_quantile_q50 = np.quantile(Y_total, 0.5)\n",
    "true_quantile_q75 = np.quantile(Y_total, 0.75)\n",
    "\n",
    "q = 0.5 # Target problem is inference on the median"
   ]
  },
  {
   "cell_type": "markdown",
   "id": "83ce18be",
   "metadata": {},
   "source": [
    "# Construct intervals"
   ]
  },
  {
   "cell_type": "code",
   "execution_count": 17,
   "id": "812f8fd5",
   "metadata": {},
   "outputs": [
    {
     "name": "stderr",
     "output_type": "stream",
     "text": [
      "100%|███████████████████████████████████████████████████████████████████████████████████| 5/5 [05:13<00:00, 62.65s/it]\n"
     ]
    }
   ],
   "source": [
    "# Run prediction-powered inference and classical inference for many values of n\n",
    "results = []\n",
    "for i in tqdm(range(ns.shape[0])):\n",
    "    for j in range(num_trials):\n",
    "        # Prediction-Powered Inference\n",
    "        n = ns[i]\n",
    "        rand_idx = np.random.permutation(n_total)\n",
    "        _Yhat = Yhat_total[rand_idx[:n]]\n",
    "        _Y = Y_total[rand_idx[:n]]\n",
    "        _Yhat_unlabeled = Yhat_total[n:]\n",
    "        \n",
    "        ppi_ci = ppi_quantile_ci(_Y, _Yhat, _Yhat_unlabeled, q, alpha=alpha)\n",
    "        \n",
    "        # Classical interval\n",
    "        classical_ci = classical_quantile_ci(_Y, q, alpha=alpha)\n",
    "        \n",
    "        # Append results\n",
    "        results += [pd.DataFrame([{\n",
    "            \"method\": \"PPI\",\n",
    "            \"n\": n,\n",
    "            \"lower\": ppi_ci[0],\n",
    "            \"upper\": ppi_ci[1],\n",
    "            \"trial\": j,\n",
    "        }])]\n",
    "        results += [pd.DataFrame([{\n",
    "            \"method\": \"Classical\",\n",
    "            \"n\": n,\n",
    "            \"lower\": classical_ci[0],\n",
    "            \"upper\": classical_ci[1],\n",
    "            \"trial\": j,\n",
    "        }])]\n",
    "        \n",
    "# Imputed CI\n",
    "imputed_ci = classical_quantile_ci(Yhat_total, q, alpha=alpha)\n",
    "results += [pd.DataFrame([{\n",
    "    \"method\": \"Imputation\",\n",
    "    \"n\": np.nan,\n",
    "    \"lower\": imputed_ci[0],\n",
    "    \"upper\": imputed_ci[1],\n",
    "    \"trial\": 0,\n",
    "}])]\n",
    "\n",
    "df = pd.concat(results,axis=0,ignore_index=True)\n",
    "df['width'] = df['upper'] - df['lower']"
   ]
  },
  {
   "cell_type": "markdown",
   "id": "d15ba288",
   "metadata": {},
   "source": [
    "# Plot results"
   ]
  },
  {
   "cell_type": "code",
   "execution_count": 18,
   "id": "6077b2c4",
   "metadata": {},
   "outputs": [
    {
     "data": {
      "image/png": "[encoded data removed]",
      "text/plain": [
       "<Figure size 648x216 with 3 Axes>"
      ]
     },
     "metadata": {},
     "output_type": "display_data"
    }
   ],
   "source": [
    "make_plots(df, './plots/gene_expression.pdf', intervals_xlabel=\"Median gene expression\", true_theta=true_quantile_q50)"
   ]
  }
 ],
 "metadata": {
  "kernelspec": {
   "display_name": "Python 3 (ipykernel)",
   "language": "python",
   "name": "python3"
  },
  "language_info": {
   "codemirror_mode": {
    "name": "ipython",
    "version": 3
   },
   "file_extension": ".py",
   "mimetype": "text/x-python",
   "name": "python",
   "nbconvert_exporter": "python",
   "pygments_lexer": "ipython3",
   "version": "3.9.12"
  }
 },
 "nbformat": 4,
 "nbformat_minor": 5
}
