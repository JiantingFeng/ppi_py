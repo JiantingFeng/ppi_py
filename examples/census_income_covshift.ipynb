{
 "cells": [
  {
   "cell_type": "markdown",
   "id": "237cb9c0-9b68-42ac-aa97-3d3f5e9b4bdc",
   "metadata": {},
   "source": [
    "# Relationship between age and income in a covariate-shifted population\n",
    "\n",
    "The goal is to investigate the relationship between age and income using US census data. The target of inference is the linear regression coefficient when regressing yearly income in dollars on age, while controlling for sex. The data from California in the year 2019 is downloaded through the Folktables interface (1). A shift in the distribution of the covariates is introduced between the gold-standard and unlabeled data sets by randomly sampling the unlabeled data set with sampling weights 0.8 for females and 0.2 for males. Predictions of income are made by training a gradient boosting tree via XGBoost (2) on the previous year’s data.\n",
    "\n",
    "1. F. Ding, M. Hardt, J. Miller, L. Schmidt, “Retiring adult: New datasets for fair machine learning” in Advances in Neural Information Processing Systems 34 (2021), pp. 6478–6490.\n",
    "2. T. Chen, C. Guestrin, “XGBoost: A scalable tree boosting system” in Proceedings of the 22nd ACM SIGKDD International Conference on Knowledge Discovery and Data Mining (2016), pp. 785–794."
   ]
  },
  {
   "cell_type": "code",
   "execution_count": 1,
   "id": "3c78cb6c-791d-499f-b8e9-57a17dd7ec11",
   "metadata": {},
   "outputs": [],
   "source": [
    "import os, sys\n",
    "sys.path.append(os.path.abspath(os.path.join(os.getcwd(), os.pardir)))\n",
    "import numpy as np\n",
    "import pandas as pd\n",
    "from ppi_py.datasets import load_dataset\n",
    "from ppi_py import ppi_ols_covshift_ci, classical_ols_covshift_ci, classical_ols_ci\n",
    "from statsmodels.regression.linear_model import OLS\n",
    "from scipy.optimize import brentq\n",
    "from tqdm import tqdm\n",
    "from utils import *"
   ]
  },
  {
   "cell_type": "markdown",
   "id": "5cf90ae6",
   "metadata": {},
   "source": [
    "### Import the census income data set\n",
    "\n",
    "Load the data. The data set contains reported income (```Y```), predicted income (```Yhat```), and age and sex (```X```)."
   ]
  },
  {
   "cell_type": "code",
   "execution_count": 2,
   "id": "a6da3138",
   "metadata": {},
   "outputs": [],
   "source": [
    "dataset_folder = \"./data/\"\n",
    "data = load_dataset(dataset_folder, \"census_income\")\n",
    "Y_total = data[\"Y\"]\n",
    "Yhat_total = data[\"Yhat\"]\n",
    "X_total = data[\"X\"][:,0:1] # Age\n",
    "Z_total = data[\"X\"][:,1:2]-1 # Sex"
   ]
  },
  {
   "cell_type": "markdown",
   "id": "8969f9db",
   "metadata": {},
   "source": [
    "### Problem setup\n",
    "\n",
    "Specify the error level (```alpha```), range of values for the labeled data set size (```ns```), and number of trials (```num_trials```)."
   ]
  },
  {
   "cell_type": "code",
   "execution_count": 3,
   "id": "5b3c8f29",
   "metadata": {},
   "outputs": [],
   "source": [
    "alpha = 0.05\n",
    "coordinate = 0\n",
    "weights = np.array([0.8, 0.2]) # Women, men in the new population\n",
    "inD_weights = np.array([1-Z_total.mean(), Z_total.mean()]) # Women, men in the old population\n",
    "n_total = Y_total.shape[0]  # Total number of labeled examples\n",
    "n_inD = 10000\n",
    "ns = np.linspace(100, 2000, 10).astype(\n",
    "    int\n",
    ")  # Test for different numbers of labeled ballots\n",
    "num_trials = 100"
   ]
  },
  {
   "cell_type": "markdown",
   "id": "6e9580e6-0ced-499f-92b0-f5a3f717f865",
   "metadata": {},
   "source": [
    "Generate \"in-distribution\" and \"out-of-distribution\" data sets via weighted sampling."
   ]
  },
  {
   "cell_type": "code",
   "execution_count": 5,
   "id": "c1960205",
   "metadata": {},
   "outputs": [],
   "source": [
    "# Generate indexes for inD and ooD datasets.\n",
    "randperm = np.random.permutation(n_total)\n",
    "inD_idxs, temp_idxs = randperm[:n_inD], randperm[n_inD:]\n",
    "probability_vector = np.array([weights[0] if z == 0 else weights[1] for z in Z_total[temp_idxs]])\n",
    "probability_vector /= probability_vector.sum()\n",
    "size = int((n_total - n_inD) * min(weights[0]/weights[1], weights[1]/weights[0]))\n",
    "shifted_idxs = np.random.choice(temp_idxs, size=size, replace=False, p=probability_vector)"
   ]
  },
  {
   "cell_type": "code",
   "execution_count": 6,
   "id": "72590739",
   "metadata": {},
   "outputs": [],
   "source": [
    "# Generate inD and ooD datasets\n",
    "X_inD, X_ooD = X_total[inD_idxs], X_total[shifted_idxs]\n",
    "Y_inD, Y_ooD = Y_total[inD_idxs], Y_total[shifted_idxs]\n",
    "Yhat_inD, Yhat_ooD = Yhat_total[inD_idxs], Yhat_total[shifted_idxs]\n",
    "Z_inD, Z_ooD = Z_total[inD_idxs], Z_total[shifted_idxs]"
   ]
  },
  {
   "cell_type": "markdown",
   "id": "7c7c3ba4-b8f2-4094-a81a-48b5b794e508",
   "metadata": {},
   "source": [
    "Compute the ground-truth value of the estimand."
   ]
  },
  {
   "cell_type": "code",
   "execution_count": 7,
   "id": "cfe10ab3",
   "metadata": {},
   "outputs": [],
   "source": [
    "# Compute ground truth\n",
    "true_theta = OLS(Y_ooD, exog=X_ooD).fit().params[coordinate]"
   ]
  },
  {
   "cell_type": "markdown",
   "id": "83ce18be",
   "metadata": {},
   "source": [
    "### Construct intervals\n",
    "\n",
    "Form confidence intervals for all methods and problem parameters. A dataframe with the following columns is formed:\n",
    "1. ```method``` (one of ```PPI```, ```Classical```, and ```Imputation```)\n",
    "2. ```n``` (labeled data set size, takes values in ```ns```)\n",
    "3. ```lower``` (lower endpoint of the confidence interval)\n",
    "4. ```upper``` (upper endpoint of the confidence interval)\n",
    "5. ```trial``` (index of trial, goes from ```0``` to ```num_trials-1```)"
   ]
  },
  {
   "cell_type": "code",
   "execution_count": 8,
   "id": "812f8fd5",
   "metadata": {},
   "outputs": [
    {
     "name": "stderr",
     "output_type": "stream",
     "text": [
      "100%|███████████████████████████████████████████| 10/10 [00:06<00:00,  1.56it/s]\n"
     ]
    }
   ],
   "source": [
    "# Run prediction-powered inference and classical inference for many values of n\n",
    "results = []\n",
    "for i in tqdm(range(ns.shape[0])):\n",
    "    for j in range(num_trials):\n",
    "        # Prediction-Powered Inference\n",
    "        n = ns[i]\n",
    "        rand_idx = np.random.permutation(n_inD)\n",
    "        _X = X_inD[rand_idx[:n]]\n",
    "        _Y = Y_inD[rand_idx[:n]]\n",
    "        _Z = Z_inD[rand_idx[:n]]\n",
    "        _Yhat = Yhat_inD[rand_idx[:n]]\n",
    "        importance_weights = np.array([weights[0]/inD_weights[0] if z == 0 else weights[1]/inD_weights[1] for z in _Z])\n",
    "\n",
    "        ppi_ci = ppi_ols_covshift_ci(\n",
    "            _X, _Y, _Yhat, X_ooD, Yhat_ooD, importance_weights, alpha=alpha\n",
    "        )\n",
    "\n",
    "        # Classical interval\n",
    "        classical_ci = classical_ols_covshift_ci(_X, _Y, importance_weights, alpha=alpha)\n",
    "\n",
    "        # Append results\n",
    "        results += [\n",
    "            pd.DataFrame(\n",
    "                [\n",
    "                    {\n",
    "                        \"method\": \"PPI\",\n",
    "                        \"n\": n,\n",
    "                        \"lower\": ppi_ci[0][coordinate],\n",
    "                        \"upper\": ppi_ci[1][coordinate],\n",
    "                        \"trial\": j,\n",
    "                    }\n",
    "                ]\n",
    "            )\n",
    "        ]\n",
    "        results += [\n",
    "            pd.DataFrame(\n",
    "                [\n",
    "                    {\n",
    "                        \"method\": \"Classical\",\n",
    "                        \"n\": n,\n",
    "                        \"lower\": classical_ci[0][coordinate],\n",
    "                        \"upper\": classical_ci[1][coordinate],\n",
    "                        \"trial\": j,\n",
    "                    }\n",
    "                ]\n",
    "            )\n",
    "        ]\n",
    "\n",
    "# Imputed CI\n",
    "imputed_ci = classical_ols_ci(X_ooD, Yhat_ooD, alpha=alpha)\n",
    "results += [\n",
    "    pd.DataFrame(\n",
    "        [\n",
    "            {\n",
    "                \"method\": \"Imputation\",\n",
    "                \"n\": np.nan,\n",
    "                \"lower\": imputed_ci[0][coordinate],\n",
    "                \"upper\": imputed_ci[1][coordinate],\n",
    "                \"trial\": 0,\n",
    "            }\n",
    "        ]\n",
    "    )\n",
    "]\n",
    "\n",
    "df = pd.concat(results, axis=0, ignore_index=True)\n",
    "df[\"width\"] = df[\"upper\"] - df[\"lower\"]"
   ]
  },
  {
   "cell_type": "markdown",
   "id": "d15ba288",
   "metadata": {},
   "source": [
    "### Plot results\n",
    "\n",
    "Plot:\n",
    "1. Five randomly chosen intervals from the dataframe for PPI and the classical method, and the imputed interval;\n",
    "2. The average interval width for PPI and the classical method, together with a scatterplot of the widths from the five random draws."
   ]
  },
  {
   "cell_type": "code",
   "execution_count": 9,
   "id": "6077b2c4",
   "metadata": {},
   "outputs": [
    {
     "data": {
      "image/png": "[encoded data removed]",
      "text/plain": [
       "<Figure size 648x216 with 3 Axes>"
      ]
     },
     "metadata": {
      "needs_background": "light"
     },
     "output_type": "display_data"
    }
   ],
   "source": [
    "make_plots(\n",
    "    df,\n",
    "    \"./plots/census_income_covshift.pdf\",\n",
    "    intervals_xlabel=\"OLS coeff\",\n",
    "    true_theta=true_theta,\n",
    "    empty_panel=True\n",
    ")"
   ]
  },
  {
   "cell_type": "markdown",
   "id": "eb197baf-efcc-49cd-98b0-359dbbc9e517",
   "metadata": {},
   "source": [
    "### Power experiment\n",
    "\n",
    "For PPI and the classical approach, find the smallest value of ```n``` such that the method has power 80% against the null $H_0: \\theta^* < 800$."
   ]
  },
  {
   "cell_type": "code",
   "execution_count": 10,
   "id": "8858298f",
   "metadata": {},
   "outputs": [],
   "source": [
    "# Find n such that we reject H0: OLS coeff < 800 with probability 80% using a test at level alpha\n",
    "num_experiments = 100\n",
    "list_rand_idx = [\n",
    "    np.random.permutation(n_inD) for i in range(num_experiments)\n",
    "]\n",
    "\n",
    "\n",
    "def _to_invert_ppi(n):\n",
    "    n = int(n)\n",
    "    nulls_rejected = 0\n",
    "    # Data setup\n",
    "    for i in range(num_experiments):\n",
    "        rand_idx = list_rand_idx[i]\n",
    "        _X = X_inD[rand_idx[:n]]\n",
    "        _Y = Y_inD[rand_idx[:n]]\n",
    "        _Z = Z_inD[rand_idx[:n]]\n",
    "        _Yhat = Yhat_inD[rand_idx[:n]]\n",
    "        importance_weights = np.array([weights[0]/inD_weights[0] if z == 0 else weights[1]/inD_weights[1] for z in _Z])\n",
    "\n",
    "        ppi_ci = ppi_ols_covshift_ci(\n",
    "            _X, _Y, _Yhat, X_ooD, Yhat_ooD, importance_weights, alpha=alpha\n",
    "        )\n",
    "\n",
    "        if ppi_ci[0][coordinate] > 800:\n",
    "            nulls_rejected += 1\n",
    "    return nulls_rejected / num_experiments - 0.8\n",
    "\n",
    "\n",
    "def _to_invert_classical(n):\n",
    "    n = int(n)\n",
    "    nulls_rejected = 0\n",
    "    # Data setup\n",
    "    for i in range(num_experiments):\n",
    "        rand_idx = list_rand_idx[i]\n",
    "        _X = X_inD[rand_idx[:n]]\n",
    "        _Y = Y_inD[rand_idx[:n]]\n",
    "        _Z = Z_inD[rand_idx[:n]]\n",
    "        importance_weights = np.array([weights[0]/inD_weights[0] if z == 0 else weights[1]/inD_weights[1] for z in _Z])\n",
    "\n",
    "        classical_ci = classical_ols_covshift_ci(\n",
    "            _X, _Y, importance_weights, alpha=alpha\n",
    "        )\n",
    "\n",
    "        if classical_ci[0][coordinate] > 800:\n",
    "            nulls_rejected += 1\n",
    "    return nulls_rejected / num_experiments - 0.8"
   ]
  },
  {
   "cell_type": "code",
   "execution_count": 11,
   "id": "f3ad00cd",
   "metadata": {},
   "outputs": [
    {
     "name": "stdout",
     "output_type": "stream",
     "text": [
      "The PPI test requires n=179 labeled data points to reject the null.\n",
      "The classical test requires n=258 labeled data points to reject the null.\n"
     ]
    }
   ],
   "source": [
    "n_ppi = int(brentq(_to_invert_ppi, 100, 2000, xtol=1))\n",
    "n_classical = int(brentq(_to_invert_classical, 100, 10000, xtol=1))\n",
    "print(\n",
    "    f\"The PPI test requires n={n_ppi} labeled data points to reject the null.\"\n",
    ")\n",
    "print(\n",
    "    f\"The classical test requires n={n_classical} labeled data points to reject the null.\"\n",
    ")"
   ]
  }
 ],
 "metadata": {
  "kernelspec": {
   "display_name": "Python 3 (ipykernel)",
   "language": "python",
   "name": "python3"
  },
  "language_info": {
   "codemirror_mode": {
    "name": "ipython",
    "version": 3
   },
   "file_extension": ".py",
   "mimetype": "text/x-python",
   "name": "python",
   "nbconvert_exporter": "python",
   "pygments_lexer": "ipython3",
   "version": "3.11.5"
  }
 },
 "nbformat": 4,
 "nbformat_minor": 5
}
