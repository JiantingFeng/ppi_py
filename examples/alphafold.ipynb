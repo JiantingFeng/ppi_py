{
 "cells": [
  {
   "cell_type": "code",
   "execution_count": 1,
   "id": "4f57ecd3",
   "metadata": {},
   "outputs": [],
   "source": [
    "import os, sys\n",
    "sys.path.append(os.path.abspath(os.path.join(os.getcwd(), os.pardir)))\n",
    "import numpy as np\n",
    "import pandas as pd\n",
    "from ppi_py.datasets import load_dataset\n",
    "from ppi_py import ppi_mean_ci, classical_mean_ci\n",
    "from tqdm import tqdm\n",
    "from utils import *"
   ]
  },
  {
   "cell_type": "markdown",
   "id": "5cf90ae6",
   "metadata": {},
   "source": [
    "# Import the alphafold data set"
   ]
  },
  {
   "cell_type": "code",
   "execution_count": 2,
   "id": "a6da3138",
   "metadata": {},
   "outputs": [],
   "source": [
    "dataset_folder = './data/'\n",
    "data = load_dataset(dataset_folder, 'alphafold')\n",
    "Y_total = (data['Y'] > 0.5).astype(int)\n",
    "Yhat_total = (data['Yhat'] > 0.5).astype(int)\n",
    "Z = data['phosphorylated'].astype(bool) # Can choose from \"phosphorylated\", \"ubiquitinated\", or \"acetylated\""
   ]
  },
  {
   "cell_type": "markdown",
   "id": "8969f9db",
   "metadata": {},
   "source": [
    "# Problem setup"
   ]
  },
  {
   "cell_type": "code",
   "execution_count": 3,
   "id": "5b3c8f29",
   "metadata": {},
   "outputs": [],
   "source": [
    "alpha = 0.1\n",
    "ns = np.array([200, 400, 800, 1500, 3000]) # Test for different numbers of labels\n",
    "num_trials = 100\n",
    "\n",
    "# Split into two subgroups for odds ratio calculation\n",
    "Y0_total, Y1_total = Y_total[~Z], Y_total[Z]\n",
    "Yhat0_total, Yhat1_total = Yhat_total[~Z], Yhat_total[Z]\n",
    "n0_total = Y0_total.shape[0]\n",
    "n1_total = Y1_total.shape[0]\n",
    "sample_ratio = n0_total/Y_total.shape[0]\n",
    "\n",
    "# True odds ratio\n",
    "mu0 = Y0_total.mean()\n",
    "mu1 = Y1_total.mean()\n",
    "odds_ratio = (mu1/(1-mu1))/(mu0/(1-mu0))"
   ]
  },
  {
   "cell_type": "markdown",
   "id": "83ce18be",
   "metadata": {},
   "source": [
    "# Construct intervals"
   ]
  },
  {
   "cell_type": "code",
   "execution_count": 4,
   "id": "55c3df32",
   "metadata": {},
   "outputs": [],
   "source": [
    "def odds_ratio_ci(mu0_ci, mu1_ci):\n",
    "    # First construct CI of mu0/(1-mu0) and mu1/(1-mu1)\n",
    "    r0 = [mu0_ci[0]/(1-mu0_ci[0]), mu0_ci[1]/(1-mu0_ci[1])]\n",
    "    r1 = [mu1_ci[0]/(1-mu1_ci[0]), mu1_ci[1]/(1-mu1_ci[1])]\n",
    "    return r1[0]/r0[1], r1[1]/r0[0]"
   ]
  },
  {
   "cell_type": "code",
   "execution_count": 5,
   "id": "812f8fd5",
   "metadata": {},
   "outputs": [
    {
     "name": "stderr",
     "output_type": "stream",
     "text": [
      "100%|███████████████████████████████████████████████████████████████████████████████████| 5/5 [00:00<00:00, 11.69it/s]\n"
     ]
    }
   ],
   "source": [
    "# Run prediction-powered inference and classical inference for many values of n\n",
    "results = []\n",
    "for i in tqdm(range(ns.shape[0])):\n",
    "    for j in range(num_trials):\n",
    "        # Split the data\n",
    "        n = ns[i]\n",
    "        _n0 = int(n*sample_ratio)\n",
    "        _n1 = n-_n0\n",
    "        rand_idx_0 = np.random.permutation(n0_total)\n",
    "        rand_idx_1 = np.random.permutation(n1_total)\n",
    "        _Yhat0 = Yhat0_total[rand_idx_0[:_n0]]\n",
    "        _Y0 = Y0_total[rand_idx_0[:_n0]]\n",
    "        _Yhat0_unlabeled = Yhat0_total[rand_idx_0[_n0:]]\n",
    "        _Yhat1 = Yhat1_total[rand_idx_1[:_n1]]\n",
    "        _Y1 = Y1_total[rand_idx_1[:_n1]]\n",
    "        _Yhat1_unlabeled = Yhat1_total[rand_idx_1[_n1:]]\n",
    "                \n",
    "        # PPI\n",
    "        ppi_mu0_ci = ppi_mean_ci(_Y0, _Yhat0, _Yhat0_unlabeled, alpha=alpha/2)\n",
    "        ppi_mu1_ci = ppi_mean_ci(_Y1, _Yhat1, _Yhat1_unlabeled, alpha=alpha/2)\n",
    "        ppi_odds_ratio_ci = odds_ratio_ci(ppi_mu0_ci, ppi_mu1_ci)\n",
    "        \n",
    "        # Classical interval\n",
    "        classical_mu0_ci = classical_mean_ci(_Y0, alpha=alpha/2)\n",
    "        classical_mu1_ci = classical_mean_ci(_Y1, alpha=alpha/2)\n",
    "        classical_odds_ratio_ci = odds_ratio_ci(classical_mu0_ci, classical_mu1_ci)\n",
    "        \n",
    "        # Append results\n",
    "        results += [pd.DataFrame([{\n",
    "            \"method\": \"PPI\",\n",
    "            \"n\": n,\n",
    "            \"lower\": ppi_odds_ratio_ci[0],\n",
    "            \"upper\": ppi_odds_ratio_ci[1],\n",
    "            \"trial\": j,\n",
    "        }])]\n",
    "        results += [pd.DataFrame([{\n",
    "            \"method\": \"Classical\",\n",
    "            \"n\": n,\n",
    "            \"lower\": classical_odds_ratio_ci[0],\n",
    "            \"upper\": classical_odds_ratio_ci[1],\n",
    "            \"trial\": j,\n",
    "        }])]\n",
    "        \n",
    "# Imputed CI\n",
    "imputed_mu0_ci = classical_mean_ci(Yhat0_total, alpha=alpha/2)\n",
    "imputed_mu1_ci = classical_mean_ci(Yhat1_total, alpha=alpha/2)\n",
    "imputed_odds_ratio_ci = odds_ratio_ci(imputed_mu0_ci, imputed_mu1_ci)\n",
    "\n",
    "results += [pd.DataFrame([{\n",
    "    \"method\": \"Imputation\",\n",
    "    \"n\": np.nan,\n",
    "    \"lower\": imputed_odds_ratio_ci[0],\n",
    "    \"upper\": imputed_odds_ratio_ci[1],\n",
    "    \"trial\": 0,\n",
    "}])]\n",
    "\n",
    "df = pd.concat(results,axis=0,ignore_index=True)\n",
    "df['width'] = df['upper'] - df['lower']"
   ]
  },
  {
   "cell_type": "markdown",
   "id": "d15ba288",
   "metadata": {},
   "source": [
    "# Plot results"
   ]
  },
  {
   "cell_type": "code",
   "execution_count": 6,
   "id": "6077b2c4",
   "metadata": {},
   "outputs": [
    {
     "data": {
      "image/png": "[encoded data removed]",
      "text/plain": [
       "<Figure size 648x216 with 3 Axes>"
      ]
     },
     "metadata": {
      "needs_background": "light"
     },
     "output_type": "display_data"
    }
   ],
   "source": [
    "make_plots(df, './plots/alphafold.pdf', intervals_xlabel=\"Odds ratio\", n_idx=4, true_theta=odds_ratio)"
   ]
  }
 ],
 "metadata": {
  "kernelspec": {
   "display_name": "Python 3 (ipykernel)",
   "language": "python",
   "name": "python3"
  },
  "language_info": {
   "codemirror_mode": {
    "name": "ipython",
    "version": 3
   },
   "file_extension": ".py",
   "mimetype": "text/x-python",
   "name": "python",
   "nbconvert_exporter": "python",
   "pygments_lexer": "ipython3",
   "version": "3.9.12"
  }
 },
 "nbformat": 4,
 "nbformat_minor": 5
}
