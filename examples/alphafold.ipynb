{
 "cells": [
  {
   "cell_type": "markdown",
   "id": "8d723b5d-e9a2-41e2-ba67-ff10b1d6ac9d",
   "metadata": {},
   "source": [
    "# Relating protein structure and post-translational modifications\n",
    "\n",
    "The goal is to characterize whether various types of post-translational modifications (PTMs) occur more frequently in intrinsically disordered regions (IDRs) of proteins (1). The target of inference is the odds ratio associating being in an IDR and having a PTM.\n",
    "This notebook shows how to do inference on the odds ratio via PPI by using structures predicted by AlphaFold (2) to predict IDRs. IDRs are predicted from structures following the strategy of Bludau et al. (3).\n",
    "\n",
    "1. L. M. Iakoucheva, P. Radivojac, C. J. Brown, T. R. O’Connor, J. G. Sikes, Z. Obradovic, A. K. Dunker, The importance of intrinsic disorder for protein phosphorylation. Nucleic Acids Res. 32, 1037–1049 (2004).\n",
    "2. J. Jumper, R. Evans, A. Pritzel, T. Green, M. Figurnov, O. Ronneberger, K. Tunyasuvunakool, R. Bates, A. Žídek, A. Potapenko, A. Bridgland, C. Meyer, S. A. A. Kohl, A. J. Ballard, A. Cowie, B. Romera-Paredes, S. Nikolov, R. Jain, J. Adler, T. Back, S. Petersen, D. Reiman, E. Clancy, M. Zielinski, M. Steinegger, M. Pacholska, T. Berghammer, S. Bodenstein, D. Silver, O. Vinyals, A. W. Senior, K. Kavukcuoglu, P. Kohli, D. Hassabis, Highly accurate protein structure prediction with AlphaFold. Nature 596(7873), 583–589 (2021). \n",
    "3. I. Bludau, S. Willems, W-F. Zeng, M. T. Strauss, F. M. Hansen, M. C. Tanzer, O. Karayel, B. A. Schulman, M. Mann, The structural context of posttranslational modifications at a proteome-wide scale. PLoS Biology 20(5), e3001636 (2022)."
   ]
  },
  {
   "cell_type": "markdown",
   "id": "14d2f594-03a8-4878-9454-42cc5ea3a81f",
   "metadata": {},
   "source": [
    "### Import necessary packages"
   ]
  },
  {
   "cell_type": "code",
   "execution_count": 1,
   "id": "4f57ecd3",
   "metadata": {},
   "outputs": [],
   "source": [
    "import os, sys\n",
    "\n",
    "sys.path.append(os.path.abspath(os.path.join(os.getcwd(), os.pardir)))\n",
    "import numpy as np\n",
    "import pandas as pd\n",
    "from ppi_py.datasets import load_dataset\n",
    "from ppi_py import ppi_mean_ci, classical_mean_ci\n",
    "from tqdm import tqdm\n",
    "from scipy.optimize import brentq\n",
    "from utils import *"
   ]
  },
  {
   "cell_type": "markdown",
   "id": "5cf90ae6",
   "metadata": {},
   "source": [
    "### Import the AlphaFold data set\n",
    "\n",
    "Load the data. The data set contains true indicators of disorder (```Y```), predicted indicators of disorder (```Yhat```), and indicators of a PTM (```phosphorylated```, ```ubiquitinated```, or ```acetylated```). Predictions of disorder are made based on AlphaFold predictions of structure."
   ]
  },
  {
   "cell_type": "code",
   "execution_count": 2,
   "id": "a6da3138",
   "metadata": {},
   "outputs": [
    {
     "name": "stdout",
     "output_type": "stream",
     "text": [
      "Dataset alphafold not found at location ./data/; downloading now...\n"
     ]
    },
    {
     "name": "stderr",
     "output_type": "stream",
     "text": [
      "Downloading...\n",
      "From: https://drive.google.com/uc?id=1lOhdSJEcFbZmcIoqmlLxo3LgLG1KqPho\n",
      "To: /home/aa/Code/ppi_py/examples/data/alphafold.npz\n",
      "\r",
      "  0%|          | 0.00/433k [00:00<?, ?B/s]\r",
      "100%|██████████| 433k/433k [00:00<00:00, 4.71MB/s]\n"
     ]
    }
   ],
   "source": [
    "dataset_folder = \"./data/\"\n",
    "data = load_dataset(dataset_folder, \"alphafold\")\n",
    "Y_total = data[\"Y\"]\n",
    "Yhat_total = data[\"Yhat\"]\n",
    "Z = data[\"phosphorylated\"].astype(\n",
    "    bool\n",
    ")  # Can choose from \"phosphorylated\", \"ubiquitinated\", or \"acetylated\""
   ]
  },
  {
   "cell_type": "markdown",
   "id": "8969f9db",
   "metadata": {},
   "source": [
    "### Problem setup\n",
    "\n",
    "Specify the error level (```alpha```), range of values for the labeled data set size (```ns```), and number of trials (```num_trials```).\n",
    "\n",
    "Compute the ground-truth value of the estimand."
   ]
  },
  {
   "cell_type": "code",
   "execution_count": 3,
   "id": "5b3c8f29",
   "metadata": {},
   "outputs": [],
   "source": [
    "alpha = 0.1\n",
    "ns = np.array(\n",
    "    [200, 400, 800, 1500, 3000]\n",
    ")  # Test for different numbers of labels\n",
    "num_trials = 100\n",
    "\n",
    "# Split into two subgroups for odds ratio calculation\n",
    "Y0_total, Y1_total = Y_total[~Z], Y_total[Z]\n",
    "Yhat0_total, Yhat1_total = Yhat_total[~Z], Yhat_total[Z]\n",
    "n0_total = Y0_total.shape[0]\n",
    "n1_total = Y1_total.shape[0]\n",
    "sample_ratio = n0_total / Y_total.shape[0]\n",
    "\n",
    "# True odds ratio\n",
    "mu0 = Y0_total.mean()\n",
    "mu1 = Y1_total.mean()\n",
    "odds_ratio = (mu1 / (1 - mu1)) / (mu0 / (1 - mu0))"
   ]
  },
  {
   "cell_type": "markdown",
   "id": "83ce18be",
   "metadata": {},
   "source": [
    "### Construct intervals\n",
    "\n",
    "Form confidence intervals for all methods and problem parameters. A dataframe with the following columns is formed:\n",
    "1. ```method``` (one of ```PPI```, ```Classical```, and ```Imputation```)\n",
    "2. ```n``` (labeled data set size, takes values in ```ns```)\n",
    "3. ```lower``` (lower endpoint of the confidence interval)\n",
    "4. ```upper``` (upper endpoint of the confidence interval)\n",
    "5. ```trial``` (index of trial, goes from ```0``` to ```num_trials-1```)"
   ]
  },
  {
   "cell_type": "code",
   "execution_count": 4,
   "id": "55c3df32",
   "metadata": {},
   "outputs": [],
   "source": [
    "def odds_ratio_ci(mu0_ci, mu1_ci):\n",
    "    # First construct CI of mu0/(1-mu0) and mu1/(1-mu1)\n",
    "    r0 = [mu0_ci[0] / (1 - mu0_ci[0]), mu0_ci[1] / (1 - mu0_ci[1])]\n",
    "    r1 = [mu1_ci[0] / (1 - mu1_ci[0]), mu1_ci[1] / (1 - mu1_ci[1])]\n",
    "    return r1[0] / r0[1], r1[1] / r0[0]"
   ]
  },
  {
   "cell_type": "code",
   "execution_count": 5,
   "id": "812f8fd5",
   "metadata": {},
   "outputs": [
    {
     "name": "stderr",
     "output_type": "stream",
     "text": [
      "100%|████████████████████████████████████████████████████████████████████████████████████████| 5/5 [00:02<00:00,  2.28it/s]\n"
     ]
    }
   ],
   "source": [
    "# Run prediction-powered inference and classical inference for many values of n\n",
    "results = []\n",
    "for i in tqdm(range(ns.shape[0])):\n",
    "    for j in range(num_trials):\n",
    "        # Split the data\n",
    "        n = ns[i]\n",
    "        _n0 = int(n * sample_ratio)\n",
    "        _n1 = n - _n0\n",
    "        rand_idx_0 = np.random.permutation(n0_total)\n",
    "        rand_idx_1 = np.random.permutation(n1_total)\n",
    "        _Yhat0 = Yhat0_total[rand_idx_0[:_n0]]\n",
    "        _Y0 = Y0_total[rand_idx_0[:_n0]]\n",
    "        _Yhat0_unlabeled = Yhat0_total[rand_idx_0[_n0:]]\n",
    "        _Yhat1 = Yhat1_total[rand_idx_1[:_n1]]\n",
    "        _Y1 = Y1_total[rand_idx_1[:_n1]]\n",
    "        _Yhat1_unlabeled = Yhat1_total[rand_idx_1[_n1:]]\n",
    "\n",
    "        # PPI\n",
    "        ppi_mu0_ci = ppi_mean_ci(\n",
    "            _Y0, _Yhat0, _Yhat0_unlabeled, alpha=alpha / 2\n",
    "        )\n",
    "        ppi_mu1_ci = ppi_mean_ci(\n",
    "            _Y1, _Yhat1, _Yhat1_unlabeled, alpha=alpha / 2\n",
    "        )\n",
    "        ppi_odds_ratio_ci = odds_ratio_ci(ppi_mu0_ci, ppi_mu1_ci)\n",
    "\n",
    "        # Classical interval\n",
    "        classical_mu0_ci = classical_mean_ci(_Y0, alpha=alpha / 2)\n",
    "        classical_mu1_ci = classical_mean_ci(_Y1, alpha=alpha / 2)\n",
    "        classical_odds_ratio_ci = odds_ratio_ci(\n",
    "            classical_mu0_ci, classical_mu1_ci\n",
    "        )\n",
    "\n",
    "        # Append results\n",
    "        results += [\n",
    "            pd.DataFrame(\n",
    "                [\n",
    "                    {\n",
    "                        \"method\": \"PPI\",\n",
    "                        \"n\": n,\n",
    "                        \"lower\": ppi_odds_ratio_ci[0],\n",
    "                        \"upper\": ppi_odds_ratio_ci[1],\n",
    "                        \"trial\": j,\n",
    "                    }\n",
    "                ]\n",
    "            )\n",
    "        ]\n",
    "        results += [\n",
    "            pd.DataFrame(\n",
    "                [\n",
    "                    {\n",
    "                        \"method\": \"Classical\",\n",
    "                        \"n\": n,\n",
    "                        \"lower\": classical_odds_ratio_ci[0],\n",
    "                        \"upper\": classical_odds_ratio_ci[1],\n",
    "                        \"trial\": j,\n",
    "                    }\n",
    "                ]\n",
    "            )\n",
    "        ]\n",
    "\n",
    "# Imputed CI\n",
    "imputed_mu0_ci = classical_mean_ci(\n",
    "    (Yhat0_total > 0.5).astype(int), alpha=alpha / 2\n",
    ")\n",
    "imputed_mu1_ci = classical_mean_ci(\n",
    "    (Yhat1_total > 0.5).astype(int), alpha=alpha / 2\n",
    ")\n",
    "imputed_odds_ratio_ci = odds_ratio_ci(imputed_mu0_ci, imputed_mu1_ci)\n",
    "\n",
    "results += [\n",
    "    pd.DataFrame(\n",
    "        [\n",
    "            {\n",
    "                \"method\": \"Imputation\",\n",
    "                \"n\": np.nan,\n",
    "                \"lower\": imputed_odds_ratio_ci[0],\n",
    "                \"upper\": imputed_odds_ratio_ci[1],\n",
    "                \"trial\": 0,\n",
    "            }\n",
    "        ]\n",
    "    )\n",
    "]\n",
    "\n",
    "df = pd.concat(results, axis=0, ignore_index=True)\n",
    "df[\"width\"] = df[\"upper\"] - df[\"lower\"]"
   ]
  },
  {
   "cell_type": "markdown",
   "id": "d15ba288",
   "metadata": {},
   "source": [
    "### Plot results\n",
    "\n",
    "Plot:\n",
    "1. Five randomly chosen intervals from the dataframe for PPI and the classical method, and the imputed interval;\n",
    "2. The average interval width for PPI and the classical method, together with a scatterplot of the widths from the five random draws."
   ]
  },
  {
   "cell_type": "code",
   "execution_count": 6,
   "id": "6077b2c4",
   "metadata": {},
   "outputs": [
    {
     "data": {
      "image/png": "[encoded data removed]",
      "text/plain": [
       "<Figure size 900x300 with 3 Axes>"
      ]
     },
     "metadata": {},
     "output_type": "display_data"
    }
   ],
   "source": [
    "make_plots(\n",
    "    df,\n",
    "    \"./plots/alphafold.pdf\",\n",
    "    intervals_xlabel=\"Odds ratio\",\n",
    "    n_idx=1,\n",
    "    true_theta=odds_ratio,\n",
    ")"
   ]
  },
  {
   "cell_type": "markdown",
   "id": "3f64a99d-50cb-4558-a428-8e963e52e10a",
   "metadata": {},
   "source": [
    "### Power experiment\n",
    "\n",
    "For PPI and the classical approach, find the smallest value of ```n``` such that the method has power 80% against the null $H_0: \\text{odds ratio} \\leq 1$."
   ]
  },
  {
   "cell_type": "code",
   "execution_count": 7,
   "id": "16539419",
   "metadata": {},
   "outputs": [],
   "source": [
    "# Find n such that we reject H0: odds ratio <= 1 with probability 80% using a test at level alpha\n",
    "num_experiments = 100\n",
    "list_rand_idx_0 = [\n",
    "    np.random.permutation(n0_total) for i in range(num_experiments)\n",
    "]\n",
    "list_rand_idx_1 = [\n",
    "    np.random.permutation(n1_total) for i in range(num_experiments)\n",
    "]\n",
    "\n",
    "alpha_pval = 0.05\n",
    "\n",
    "\n",
    "def _to_invert_ppi(n):\n",
    "    n = int(n)\n",
    "    nulls_rejected = 0\n",
    "    # Data setup\n",
    "    for i in range(num_experiments):\n",
    "        _n0 = int(n * sample_ratio)\n",
    "        _n1 = n - _n0\n",
    "        rand_idx_0 = list_rand_idx_0[i]\n",
    "        rand_idx_1 = list_rand_idx_1[i]\n",
    "        _Yhat0 = Yhat0_total[rand_idx_0[:_n0]]\n",
    "        _Y0 = Y0_total[rand_idx_0[:_n0]]\n",
    "        _Yhat0_unlabeled = Yhat0_total[rand_idx_0[_n0:]]\n",
    "        _Yhat1 = Yhat1_total[rand_idx_1[:_n1]]\n",
    "        _Y1 = Y1_total[rand_idx_1[:_n1]]\n",
    "        _Yhat1_unlabeled = Yhat1_total[rand_idx_1[_n1:]]\n",
    "\n",
    "        # PPI\n",
    "        ppi_mu0_ci = ppi_mean_ci(\n",
    "            _Y0, _Yhat0, _Yhat0_unlabeled, alpha=alpha_pval / 2\n",
    "        )\n",
    "        ppi_mu1_ci = ppi_mean_ci(\n",
    "            _Y1, _Yhat1, _Yhat1_unlabeled, alpha=alpha_pval / 2\n",
    "        )\n",
    "        ppi_odds_ratio_ci = odds_ratio_ci(ppi_mu0_ci, ppi_mu1_ci)\n",
    "        if ppi_odds_ratio_ci[0] > 1:\n",
    "            nulls_rejected += 1\n",
    "    return nulls_rejected / num_experiments - 0.8\n",
    "\n",
    "\n",
    "def _to_invert_classical(n):\n",
    "    n = int(n)\n",
    "    nulls_rejected = 0\n",
    "    # Data setup\n",
    "    for i in range(num_experiments):\n",
    "        _n0 = int(n * sample_ratio)\n",
    "        _n1 = n - _n0\n",
    "        rand_idx_0 = list_rand_idx_0[i]\n",
    "        rand_idx_1 = list_rand_idx_1[i]\n",
    "        _Yhat0 = Yhat0_total[rand_idx_0[:_n0]]\n",
    "        _Y0 = Y0_total[rand_idx_0[:_n0]]\n",
    "        _Yhat0_unlabeled = Yhat0_total[rand_idx_0[_n0:]]\n",
    "        _Yhat1 = Yhat1_total[rand_idx_1[:_n1]]\n",
    "        _Y1 = Y1_total[rand_idx_1[:_n1]]\n",
    "        _Yhat1_unlabeled = Yhat1_total[rand_idx_1[_n1:]]\n",
    "\n",
    "        # Classical interval\n",
    "        classical_mu0_ci = classical_mean_ci(_Y0, alpha=alpha_pval / 2)\n",
    "        classical_mu1_ci = classical_mean_ci(_Y1, alpha=alpha_pval / 2)\n",
    "        classical_odds_ratio_ci = odds_ratio_ci(\n",
    "            classical_mu0_ci, classical_mu1_ci\n",
    "        )\n",
    "        if classical_odds_ratio_ci[0] > 1:\n",
    "            nulls_rejected += 1\n",
    "    return nulls_rejected / num_experiments - 0.8"
   ]
  },
  {
   "cell_type": "code",
   "execution_count": 8,
   "id": "928997ef",
   "metadata": {},
   "outputs": [
    {
     "name": "stderr",
     "output_type": "stream",
     "text": [
      "/tmp/ipykernel_207554/1679104075.py:5: RuntimeWarning: divide by zero encountered in double_scalars\n",
      "  return r1[0] / r0[1], r1[1] / r0[0]\n",
      "/tmp/ipykernel_207554/1679104075.py:5: RuntimeWarning: invalid value encountered in double_scalars\n",
      "  return r1[0] / r0[1], r1[1] / r0[0]\n"
     ]
    },
    {
     "name": "stdout",
     "output_type": "stream",
     "text": [
      "The PPI test requires n=296 labeled data points to reject the null.\n",
      "The classical test requires n=920 labeled data points to reject the null.\n"
     ]
    }
   ],
   "source": [
    "n_ppi = int(brentq(_to_invert_ppi, 10, 3000, xtol=1))\n",
    "n_classical = int(brentq(_to_invert_classical, 10, 3000, xtol=1))\n",
    "print(\n",
    "    f\"The PPI test requires n={n_ppi} labeled data points to reject the null.\"\n",
    ")\n",
    "print(\n",
    "    f\"The classical test requires n={n_classical} labeled data points to reject the null.\"\n",
    ")"
   ]
  }
 ],
 "metadata": {
  "kernelspec": {
   "display_name": "Python 3 (ipykernel)",
   "language": "python",
   "name": "python3"
  },
  "language_info": {
   "codemirror_mode": {
    "name": "ipython",
    "version": 3
   },
   "file_extension": ".py",
   "mimetype": "text/x-python",
   "name": "python",
   "nbconvert_exporter": "python",
   "pygments_lexer": "ipython3",
   "version": "3.9.12"
  }
 },
 "nbformat": 4,
 "nbformat_minor": 5
}
