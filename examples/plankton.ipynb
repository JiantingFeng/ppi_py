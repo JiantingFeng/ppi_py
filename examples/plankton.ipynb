{
 "cells": [
  {
   "cell_type": "markdown",
   "id": "3f3c181f-6dd5-446c-ac06-382b498f7600",
   "metadata": {},
   "source": [
    "# Counting plankton\n",
    "\n",
    "Assessment of the increases in phytoplankton growth during springtime warming is important for the study of global biogeochemical cycling in response to climate change. The goal is to count the number of plankton observed by the Imaging FlowCytobot (1, 2), an automated, submersible flow cytometry system, at Woods Hole Oceanographic Institution in the year 2014. Data from 2013 is labeled and data from 2014 is imputed with machine-learning predictions from a state-of-the-art ResNet fine-tuned on all data up to and including 2012. The years 2013 and 2014 have a distribution shift, primarily caused by the change in the base frequency of plankton observations. This notebook applies prediction-powered inference for label-shifted problems.\n",
    "\n",
    "1. R. J. Olson, A. Shalapyonok, H. M. Sosik, An automated submersible flow cytometer for analyzing pico-and nanophytoplankton: FlowCytobot. Deep Sea Research Part I: Oceanographic Research Papers 50(2), 301–315 (2003).\n",
    "2. E. C. Orenstein, O. Beijbom, E. E. Peacock, H. M. Sosik, WHOI-Plankton- A large scale fine grained visual recognition benchmark dataset for plankton classification. arXiv preprint arXiv:1510.00745 (2015). "
   ]
  },
  {
   "cell_type": "markdown",
   "id": "dd39cbfb-8736-49f9-adf6-3075f9cfc3cd",
   "metadata": {},
   "source": [
    "### Import necessary packages"
   ]
  },
  {
   "cell_type": "code",
   "execution_count": 2,
   "id": "644d0704-3c1b-4d6a-97ee-5a16ff07c04e",
   "metadata": {},
   "outputs": [],
   "source": [
    "%load_ext autoreload\n",
    "%autoreload 2\n",
    "import os, sys\n",
    "\n",
    "sys.path.append(os.path.abspath(os.path.join(os.getcwd(), os.pardir)))\n",
    "import numpy as np\n",
    "import pandas as pd\n",
    "from scipy.stats import binom, norm\n",
    "from ppi_py.datasets import load_dataset\n",
    "from ppi_py import ppi_distribution_label_shift_ci, classical_mean_ci\n",
    "from tqdm import tqdm\n",
    "from scipy.optimize import brentq\n",
    "from utils import *"
   ]
  },
  {
   "cell_type": "markdown",
   "id": "5cf90ae6",
   "metadata": {},
   "source": [
    "### Import the plankton data set\n",
    "\n",
    "Load the data. The data set contains hand-annotated labels indicating whether the image contains plankton (```Y```), corresponding labels predicted by a ResNet (```Yhat```), both from year 2013, and the same data from year 2014 (```Y_unlabeled``` and ```Yhat_unlabeled```, respectively). The data from 2014 is used as the unlabeled data set in the simulation."
   ]
  },
  {
   "cell_type": "code",
   "execution_count": 3,
   "id": "a6da3138",
   "metadata": {},
   "outputs": [],
   "source": [
    "dataset_folder = \"./data/\"\n",
    "data = load_dataset(dataset_folder, \"plankton\")\n",
    "Y = data[\"Y\"].astype(bool)\n",
    "Yhat = data[\"Yhat\"].astype(bool)\n",
    "Y_unlabeled = data[\"Y_unlabeled\"].astype(bool)\n",
    "Yhat_unlabeled = data[\"Yhat_unlabeled\"].astype(bool)"
   ]
  },
  {
   "cell_type": "markdown",
   "id": "8969f9db",
   "metadata": {},
   "source": [
    "### Problem setup\n",
    "\n",
    "Specify the error level (```alpha```), range of values for the labeled data set size (```ns```), number of trials (```num_trials```), and other problem parameters.\n",
    "\n",
    "Compute the ground-truth value of the estimand."
   ]
  },
  {
   "cell_type": "code",
   "execution_count": 4,
   "id": "5b3c8f29",
   "metadata": {},
   "outputs": [],
   "source": [
    "alpha = 0.05  # Total error budget\n",
    "delta = 0.048  # Rectifier budget\n",
    "K = 2  # Total number of classes\n",
    "nu = np.array([0, 1])  # Linear contrast to estimate\n",
    "n_total = Y.shape[0]  # Total number of labeled examples\n",
    "N = Y_unlabeled.shape[0]  # Total number of unlabeled examples\n",
    "ns = np.linspace(1000, n_total, 20).astype(\n",
    "    int\n",
    ")  # Test for different numbers of labeled examples\n",
    "num_trials = 50\n",
    "\n",
    "# True mean (computed on all labels)\n",
    "true_theta = Y_unlabeled.sum()"
   ]
  },
  {
   "cell_type": "markdown",
   "id": "83ce18be",
   "metadata": {},
   "source": [
    "### Construct intervals\n",
    "\n",
    "Form confidence intervals for all methods and problem parameters. A dataframe with the following columns is formed:\n",
    "1. ```method``` (one of ```PPI``` and ```Imputation```; due to label shift there is no classical baseline)\n",
    "2. ```n``` (labeled data set size, takes values in ```ns```)\n",
    "3. ```lower``` (lower endpoint of the confidence interval)\n",
    "4. ```upper``` (upper endpoint of the confidence interval)\n",
    "5. ```trial``` (index of trial, goes from ```0``` to ```num_trials-1```)"
   ]
  },
  {
   "cell_type": "code",
   "execution_count": 5,
   "id": "812f8fd5",
   "metadata": {},
   "outputs": [
    {
     "name": "stderr",
     "output_type": "stream",
     "text": [
      "100%|█████████████████████████████████████████████████████████████████████████████████████████████████████████████████████████████████████████████████████████| 20/20 [00:19<00:00,  1.01it/s]\n"
     ]
    }
   ],
   "source": [
    "# Run prediction-powered inference and classical inference for many values of n\n",
    "results = []\n",
    "for i in tqdm(range(ns.shape[0])):\n",
    "    for j in range(num_trials):\n",
    "        # Prediction-Powered Inference\n",
    "        n = ns[i]\n",
    "        rand_idx = np.random.permutation(n_total)\n",
    "        _Yhat = Yhat[rand_idx[:n]]\n",
    "        _Y = Y[rand_idx[:n]]\n",
    "\n",
    "        ppi_count_ci = ppi_distribution_label_shift_ci(\n",
    "            _Y, _Yhat, Yhat_unlabeled, K, nu, alpha, delta, return_counts=True\n",
    "        )\n",
    "        # Append results\n",
    "        results += [\n",
    "            pd.DataFrame(\n",
    "                [\n",
    "                    {\n",
    "                        \"method\": \"PPI\",\n",
    "                        \"n\": n,\n",
    "                        \"lower\": ppi_count_ci[0],\n",
    "                        \"upper\": ppi_count_ci[1],\n",
    "                        \"trial\": j,\n",
    "                    }\n",
    "                ]\n",
    "            )\n",
    "        ]\n",
    "\n",
    "# Imputed CI\n",
    "imputed_ci = classical_mean_ci(Yhat_unlabeled > 0.5, alpha=alpha)\n",
    "\n",
    "results += [\n",
    "    pd.DataFrame(\n",
    "        [\n",
    "            {\n",
    "                \"method\": \"Imputation\",\n",
    "                \"n\": np.nan,\n",
    "                \"lower\": imputed_ci[0] * N,\n",
    "                \"upper\": imputed_ci[1] * N,\n",
    "                \"trial\": 0,\n",
    "            }\n",
    "        ]\n",
    "    )\n",
    "]\n",
    "\n",
    "df = pd.concat(results, axis=0, ignore_index=True)\n",
    "df[\"width\"] = df[\"upper\"] - df[\"lower\"]"
   ]
  },
  {
   "cell_type": "markdown",
   "id": "d15ba288",
   "metadata": {},
   "source": [
    "### Plot results\n",
    "\n",
    "Plot:\n",
    "1. Five randomly chosen intervals from the dataframe for PPI, and the imputed interval;\n",
    "2. The average interval width for PPI, together with a scatterplot of the widths from the five random draws.\n",
    "\n",
    "Note that due to label shift there is no classical baseline to plot."
   ]
  },
  {
   "cell_type": "code",
   "execution_count": 6,
   "id": "6077b2c4",
   "metadata": {},
   "outputs": [
    {
     "data": {
      "image/png": "[encoded data removed]",
      "text/plain": [
       "<Figure size 648x216 with 3 Axes>"
      ]
     },
     "metadata": {
      "needs_background": "light"
     },
     "output_type": "display_data"
    }
   ],
   "source": [
    "make_plots(\n",
    "    df,\n",
    "    \"./plots/plankton.pdf\",\n",
    "    n_idx=4,\n",
    "    intervals_xlabel=\"Number of plankton\",\n",
    "    plot_classical=False,\n",
    "    true_theta=true_theta,\n",
    ")"
   ]
  },
  {
   "cell_type": "markdown",
   "id": "850df0cb-c991-487e-be3c-9971c9668596",
   "metadata": {},
   "source": [
    "### Power experiment\n",
    "\n",
    "Find the smallest value of ```n``` such that PPI has power 80% against the null $H_0: \\text{number of plankton} > 10K$."
   ]
  },
  {
   "cell_type": "code",
   "execution_count": 7,
   "id": "150cc24f",
   "metadata": {},
   "outputs": [],
   "source": [
    "# Find n such that we reject H0: Number of plankton > 10K with probability 80% using a test at level alpha\n",
    "num_experiments = 100\n",
    "list_rand_idx = [\n",
    "    np.random.permutation(n_total) for i in range(num_experiments)\n",
    "]\n",
    "\n",
    "\n",
    "def _to_invert_ppi(n):\n",
    "    n = int(n)\n",
    "    nulls_rejected = 0\n",
    "    # Data setup\n",
    "    for i in range(num_experiments):\n",
    "        rand_idx = list_rand_idx[i]\n",
    "        _Yhat = Yhat[rand_idx[:n]]\n",
    "        _Y = Y[rand_idx[:n]]\n",
    "\n",
    "        ppi_count_ci = ppi_distribution_label_shift_ci(\n",
    "            _Y, _Yhat, Yhat_unlabeled, K, nu, alpha, delta, return_counts=True\n",
    "        )\n",
    "        if ppi_count_ci[0] > 10000:\n",
    "            nulls_rejected += 1\n",
    "    return nulls_rejected / num_experiments - 0.8"
   ]
  },
  {
   "cell_type": "code",
   "execution_count": 9,
   "id": "57d481cb",
   "metadata": {},
   "outputs": [
    {
     "name": "stdout",
     "output_type": "stream",
     "text": [
      "The PPI test requires n=25513 labeled data points to reject the null.\n"
     ]
    }
   ],
   "source": [
    "n_ppi = int(brentq(_to_invert_ppi, 1000, 100000, xtol=1))\n",
    "print(\n",
    "    f\"The PPI test requires n={n_ppi} labeled data points to reject the null.\"\n",
    ")"
   ]
  }
 ],
 "metadata": {
  "kernelspec": {
   "display_name": "Python 3 (ipykernel)",
   "language": "python",
   "name": "python3"
  },
  "language_info": {
   "codemirror_mode": {
    "name": "ipython",
    "version": 3
   },
   "file_extension": ".py",
   "mimetype": "text/x-python",
   "name": "python",
   "nbconvert_exporter": "python",
   "pygments_lexer": "ipython3",
   "version": "3.9.12"
  }
 },
 "nbformat": 4,
 "nbformat_minor": 5
}
