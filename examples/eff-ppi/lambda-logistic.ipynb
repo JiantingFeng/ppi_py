{
 "cells": [
  {
   "cell_type": "code",
   "execution_count": 1,
   "id": "c1fc1715",
   "metadata": {},
   "outputs": [],
   "source": [
    "%load_ext autoreload\n",
    "%autoreload 2\n",
    "import os, sys\n",
    "\n",
    "sys.path.append(\n",
    "    os.path.abspath(os.path.join(os.getcwd(), os.pardir, os.pardir))\n",
    ")\n",
    "import numpy as np\n",
    "import pandas as pd\n",
    "import matplotlib.pyplot as plt\n",
    "import seaborn as sns\n",
    "from ppi_py.datasets import load_dataset\n",
    "from ppi_py import eff_ppi_logistic_ci_tuned\n",
    "from tqdm import tqdm\n",
    "from scipy.optimize import brentq\n",
    "from scipy.special import expit\n",
    "from tqdm import tqdm"
   ]
  },
  {
   "cell_type": "code",
   "execution_count": 4,
   "id": "debf2d80",
   "metadata": {},
   "outputs": [
    {
     "name": "stdout",
     "output_type": "stream",
     "text": [
      "[-0.75309721  0.41206705]\n"
     ]
    }
   ],
   "source": [
    "alpha = 0.1\n",
    "ns = np.linspace(500, 5000, 3).astype(\n",
    "    int\n",
    ")  # Test for different numbers of labeled examples\n",
    "sigmas = [0.1, 1, 10]\n",
    "N = 10000\n",
    "num_trials = 5\n",
    "d=2\n",
    "epsilon = 1\n",
    "coord = 0\n",
    "\n",
    "theta_star = np.random.randn(d)\n",
    "print(theta_star)"
   ]
  },
  {
   "cell_type": "code",
   "execution_count": null,
   "id": "4cd55642",
   "metadata": {},
   "outputs": [
    {
     "name": "stderr",
     "output_type": "stream",
     "text": [
      "\r",
      "  0%|                                                                                | 0/5 [00:00<?, ?it/s]"
     ]
    },
    {
     "name": "stdout",
     "output_type": "stream",
     "text": [
      "500 0.1 (array([-1.31661078,  0.53621526]), array([-0.96654824,  0.82890829]))\n",
      "2750 0.1 (array([-1.30083897,  0.6213683 ]), array([-1.14700333,  0.75275031]))\n"
     ]
    },
    {
     "name": "stderr",
     "output_type": "stream",
     "text": [
      "\r",
      " 20%|██████████████▏                                                        | 1/5 [02:16<09:06, 136.60s/it]"
     ]
    },
    {
     "name": "stdout",
     "output_type": "stream",
     "text": [
      "5000 0.1 (array([-1.28305832,  0.65483835]), array([-1.16597946,  0.75485701]))\n",
      "500 0.1 (array([-1.49724607,  0.51856712]), array([-1.1084696 ,  0.82590428]))\n",
      "2750 0.1 (array([-1.34807959,  0.7101147 ]), array([-1.18861168,  0.84817753]))\n"
     ]
    },
    {
     "name": "stderr",
     "output_type": "stream",
     "text": [
      "\r",
      " 40%|████████████████████████████▊                                           | 2/5 [02:58<04:02, 80.84s/it]"
     ]
    },
    {
     "name": "stdout",
     "output_type": "stream",
     "text": [
      "5000 0.1 (array([-1.31874973,  0.68881477]), array([-1.19993784,  0.7899077 ]))\n",
      "500 0.1 (array([-1.44303696,  0.51623515]), array([-1.0861687 ,  0.80876297]))\n",
      "2750 0.1 (array([-1.29469092,  0.60404382]), array([-1.14109677,  0.73200749]))\n"
     ]
    },
    {
     "name": "stderr",
     "output_type": "stream",
     "text": [
      "\r",
      " 60%|███████████████████████████████████████████▏                            | 3/5 [03:02<01:31, 45.63s/it]"
     ]
    },
    {
     "name": "stdout",
     "output_type": "stream",
     "text": [
      "5000 0.1 (array([-1.26747201,  0.63520943]), array([-1.15199746,  0.73310344]))\n",
      "500 0.1 (array([-1.5652294 ,  0.61932414]), array([-1.17101952,  0.96292543]))\n",
      "2750 0.1 (array([-1.37380156,  0.62479298]), array([-1.21146952,  0.7597777 ]))\n"
     ]
    },
    {
     "name": "stderr",
     "output_type": "stream",
     "text": [
      "\r",
      " 80%|█████████████████████████████████████████████████████████▌              | 4/5 [04:38<01:05, 65.52s/it]"
     ]
    },
    {
     "name": "stdout",
     "output_type": "stream",
     "text": [
      "5000 0.1 (array([-1.36959387,  0.64781347]), array([-1.24772436,  0.74779617]))\n",
      "500 0.1 (array([-1.31472642,  0.63368185]), array([-0.98816124,  0.94047755]))\n",
      "2750 0.1 (array([-1.45824021,  0.75311402]), array([-1.28725084,  0.90044493]))\n"
     ]
    },
    {
     "name": "stderr",
     "output_type": "stream",
     "text": [
      "100%|████████████████████████████████████████████████████████████████████████| 5/5 [05:49<00:00, 69.81s/it]\n"
     ]
    },
    {
     "name": "stdout",
     "output_type": "stream",
     "text": [
      "5000 0.1 (array([-1.38669793,  0.69191705]), array([-1.26107497,  0.79703828]))\n"
     ]
    },
    {
     "name": "stderr",
     "output_type": "stream",
     "text": [
      "\r",
      "  0%|                                                                                | 0/5 [00:00<?, ?it/s]"
     ]
    }
   ],
   "source": [
    "# Run prediction-powered inference and classical inference for many values of n\n",
    "results = []\n",
    "for s in range(len(sigmas)):\n",
    "    sigma = sigmas[s]\n",
    "    for j in tqdm(range(num_trials)):\n",
    "        X = np.random.multivariate_normal(np.zeros(d), np.eye(d), ns.max())\n",
    "        s = X@theta_star + epsilon * np.random.normal(0,  1, ns.max())\n",
    "        Y = expit(s) >= 0.5\n",
    "        Yhat = expit(s + sigma*np.random.normal(-2, 1, ns.max()) )\n",
    "        X_unlabeled = np.random.multivariate_normal(np.zeros(d), np.eye(d), N)\n",
    "        s_unlabeled = X_unlabeled@theta_star + epsilon * np.random.normal(0, 1, N)\n",
    "        Y_unlabeled = expit(s_unlabeled) >= 0.5\n",
    "        Yhat_unlabeled = expit(s_unlabeled + sigma*np.random.normal(-2, 1, N))\n",
    "        for i in range(ns.shape[0]):\n",
    "            n = ns[i]\n",
    "            _X = X[:n]\n",
    "            _Y = Y[:n]\n",
    "            _Yhat = Yhat[:n]\n",
    "\n",
    "            # PPI interval\n",
    "            ppi_ci = eff_ppi_logistic_ci_tuned(_X, _Y, _Yhat, X_unlabeled, Yhat_unlabeled, alpha=alpha, lhat=1, grad_tol=1e-2)\n",
    "            classical_ci = eff_ppi_logistic_ci_tuned(_X, _Y, _Yhat, X_unlabeled, Yhat_unlabeled, alpha=alpha, lhat=0, grad_tol=1e-2)\n",
    "            ppi_ci_tuned = eff_ppi_logistic_ci_tuned(_X, _Y, _Yhat, X_unlabeled, Yhat_unlabeled, alpha=alpha, grad_tol=1e-2)\n",
    "            print(n, sigma, ppi_ci_tuned)\n",
    "            # Append results\n",
    "            results += [\n",
    "                pd.DataFrame(\n",
    "                    [\n",
    "                        {\n",
    "                            \"method\": \"PPI\",\n",
    "                            \"n\": n,\n",
    "                            \"lower\": ppi_ci[0][coord],\n",
    "                            \"upper\": ppi_ci[1][coord],\n",
    "                            \"included\": (ppi_ci[0][coord] <= theta_star[coord]) & (ppi_ci[1][coord] >= theta_star[coord]),\n",
    "                            \"trial\": j,\n",
    "                            \"sigma\": sigma\n",
    "                        }\n",
    "                    ]\n",
    "                )\n",
    "            ]\n",
    "\n",
    "            results += [\n",
    "                pd.DataFrame(\n",
    "                    [\n",
    "                        {\n",
    "                            \"method\": \"classical\",\n",
    "                            \"n\": n,\n",
    "                            \"lower\": classical_ci[0][coord],\n",
    "                            \"upper\": classical_ci[1][coord],\n",
    "                            \"included\": (classical_ci[0][coord] <= theta_star[coord]) & (classical_ci[1][coord] >= theta_star[coord]),\n",
    "                            \"trial\": j,\n",
    "                            \"sigma\": sigma\n",
    "                        }\n",
    "                    ]\n",
    "                )\n",
    "            ]\n",
    "\n",
    "            results += [\n",
    "                pd.DataFrame(\n",
    "                    [\n",
    "                        {\n",
    "                            \"method\": \"tuned PPI\",\n",
    "                            \"n\": n,\n",
    "                            \"lower\": ppi_ci_tuned[0][coord],\n",
    "                            \"upper\": ppi_ci_tuned[1][coord],\n",
    "                            \"included\": (ppi_ci_tuned[0][coord] <= theta_star[coord]) & (ppi_ci_tuned[1][coord] >= theta_star[coord]),\n",
    "                            \"trial\": j,\n",
    "                            \"sigma\": sigma\n",
    "                        }\n",
    "                    ]\n",
    "                )\n",
    "            ]\n",
    "\n",
    "df = pd.concat(results, axis=0, ignore_index=True)\n",
    "df[\"width\"] = df[\"upper\"] - df[\"lower\"]"
   ]
  },
  {
   "cell_type": "code",
   "execution_count": 6,
   "id": "2c513835",
   "metadata": {},
   "outputs": [
    {
     "data": {
      "image/png": "[encoded data removed]",
      "text/plain": [
       "<Figure size 576x432 with 6 Axes>"
      ]
     },
     "metadata": {
      "needs_background": "light"
     },
     "output_type": "display_data"
    }
   ],
   "source": [
    "palette = {'tuned PPI' : 'darkorange',\n",
    "           'PPI' : '#83C980',\n",
    "           'classical' : 'cornflowerblue'}\n",
    "linewidth=2\n",
    "n_unique_sigmas = df.sigma.nunique()\n",
    "\n",
    "fig, axs = plt.subplots(nrows=n_unique_sigmas, ncols=2, figsize=(8,2*n_unique_sigmas))\n",
    "for s in range(n_unique_sigmas): \n",
    "    cvg_ax = axs[s, 0]\n",
    "    sz_ax = axs[s, 1]\n",
    "    legend = False if s > 0 else True\n",
    "    sns.lineplot(ax=cvg_ax, data=df[df.sigma == sigmas[s]], x=\"n\", y=\"included\", linewidth=linewidth, errorbar=None, hue=\"method\", legend=False, palette=palette, alpha=0.8)\n",
    "    sns.lineplot(ax=sz_ax, data=df[df.sigma == sigmas[s]], x=\"n\", y=\"width\", linewidth=linewidth, errorbar=None, hue=\"method\", legend=legend, palette=palette, alpha=0.8)\n",
    "    cvg_ax.set_ylabel(\"coverage\")\n",
    "    cvg_ax.set_ylim([0.5,1])\n",
    "    cvg_ax.axhline(y=1-alpha, color=\"#888888\", linestyle='dotted')\n",
    "    if legend:\n",
    "        sz_ax.legend_.set_title(None)\n",
    "    \n",
    "sns.despine(top=True, right=True)\n",
    "plt.tight_layout()\n",
    "os.makedirs('./plots',exist_ok=True)\n",
    "plt.savefig('./plots/tuned-PPI-logistic.pdf')"
   ]
  }
 ],
 "metadata": {
  "kernelspec": {
   "display_name": "Python 3 (ipykernel)",
   "language": "python",
   "name": "python3"
  },
  "language_info": {
   "codemirror_mode": {
    "name": "ipython",
    "version": 3
   },
   "file_extension": ".py",
   "mimetype": "text/x-python",
   "name": "python",
   "nbconvert_exporter": "python",
   "pygments_lexer": "ipython3",
   "version": "3.9.12"
  }
 },
 "nbformat": 4,
 "nbformat_minor": 5
}
