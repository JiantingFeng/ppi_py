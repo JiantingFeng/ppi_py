{
 "cells": [
  {
   "cell_type": "code",
   "execution_count": 1,
   "id": "c1fc1715",
   "metadata": {},
   "outputs": [],
   "source": [
    "%load_ext autoreload\n",
    "%autoreload 2\n",
    "import os, sys\n",
    "\n",
    "sys.path.append(\n",
    "    os.path.abspath(os.path.join(os.getcwd(), os.pardir, os.pardir))\n",
    ")\n",
    "import numpy as np\n",
    "import pandas as pd\n",
    "import matplotlib.pyplot as plt\n",
    "import seaborn as sns\n",
    "from ppi_py.datasets import load_dataset\n",
    "from ppi_py import eff_ppi_ols_ci_tuned\n",
    "from tqdm import tqdm\n",
    "from scipy.optimize import brentq\n",
    "from scipy.special import expit\n",
    "from tqdm import tqdm"
   ]
  },
  {
   "cell_type": "code",
   "execution_count": 2,
   "id": "debf2d80",
   "metadata": {},
   "outputs": [
    {
     "name": "stdout",
     "output_type": "stream",
     "text": [
      "[-1.1508405  -1.17272127]\n"
     ]
    }
   ],
   "source": [
    "alpha = 0.1\n",
    "ns = np.linspace(500, 5000, 10).astype(\n",
    "    int\n",
    ")  # Test for different numbers of labeled examples\n",
    "sigmas = [0.1, 1, 10]\n",
    "N = 10000\n",
    "num_trials = 100\n",
    "d=2\n",
    "epsilon = 1\n",
    "coord = 0\n",
    "\n",
    "theta_star = np.random.randn(d)\n",
    "print(theta_star)"
   ]
  },
  {
   "cell_type": "code",
   "execution_count": null,
   "id": "4cd55642",
   "metadata": {},
   "outputs": [
    {
     "name": "stderr",
     "output_type": "stream",
     "text": [
      "100%|███████████████████████████████████████████████████████████████████████████████████████████████████████████████████████████████████████████████████████| 100/100 [12:28<00:00,  7.49s/it]\n",
      "100%|████████████████████████████████████████████████████████████████████| 100/100 [16:07<00:00,  9.68s/it]\n",
      " 35%|████████████████████████▏                                            | 35/100 [06:35<12:33, 11.60s/it]"
     ]
    }
   ],
   "source": [
    "# Run prediction-powered inference and classical inference for many values of n\n",
    "results = []\n",
    "for s in range(len(sigmas)):\n",
    "    sigma = sigmas[s]\n",
    "    for j in tqdm(range(num_trials)):\n",
    "        X = np.random.multivariate_normal(np.zeros(d), np.eye(d), ns.max())\n",
    "        Y = X@theta_star + epsilon * np.random.normal(0,  1, ns.max())\n",
    "        Yhat = Y + sigma*np.random.normal(-2, 1, ns.max())\n",
    "        X_unlabeled = np.random.multivariate_normal(np.zeros(d), np.eye(d), N)\n",
    "        Y_unlabeled = X_unlabeled@theta_star + epsilon * np.random.normal(0, 1, N)\n",
    "        Yhat_unlabeled = Y_unlabeled + sigma*np.random.normal(-2, 1, N)\n",
    "        for i in range(ns.shape[0]):\n",
    "            n = ns[i]\n",
    "            _X = X[:n]\n",
    "            _Y = Y[:n]\n",
    "            _Yhat = Yhat[:n]\n",
    "\n",
    "            # PPI interval\n",
    "            ppi_ci = eff_ppi_ols_ci_tuned(_X, _Y, _Yhat, X_unlabeled, Yhat_unlabeled, alpha=alpha, lhat=1)\n",
    "            classical_ci = eff_ppi_ols_ci_tuned(_X, _Y, _Yhat, X_unlabeled, Yhat_unlabeled, alpha=alpha, lhat=0)\n",
    "            ppi_ci_tuned = eff_ppi_ols_ci_tuned(_X, _Y, _Yhat, X_unlabeled, Yhat_unlabeled, alpha=alpha)\n",
    "            # Append results\n",
    "            results += [\n",
    "                pd.DataFrame(\n",
    "                    [\n",
    "                        {\n",
    "                            \"method\": \"PPI\",\n",
    "                            \"n\": n,\n",
    "                            \"lower\": ppi_ci[0][coord],\n",
    "                            \"upper\": ppi_ci[1][coord],\n",
    "                            \"included\": (ppi_ci[0][coord] <= theta_star[coord]) & (ppi_ci[1][coord] >= theta_star[coord]),\n",
    "                            \"trial\": j,\n",
    "                            \"sigma\": sigma\n",
    "                        }\n",
    "                    ]\n",
    "                )\n",
    "            ]\n",
    "\n",
    "            results += [\n",
    "                pd.DataFrame(\n",
    "                    [\n",
    "                        {\n",
    "                            \"method\": \"classical\",\n",
    "                            \"n\": n,\n",
    "                            \"lower\": classical_ci[0][coord],\n",
    "                            \"upper\": classical_ci[1][coord],\n",
    "                            \"included\": (classical_ci[0][coord] <= theta_star[coord]) & (classical_ci[1][coord] >= theta_star[coord]),\n",
    "                            \"trial\": j,\n",
    "                            \"sigma\": sigma\n",
    "                        }\n",
    "                    ]\n",
    "                )\n",
    "            ]\n",
    "\n",
    "            results += [\n",
    "                pd.DataFrame(\n",
    "                    [\n",
    "                        {\n",
    "                            \"method\": \"tuned PPI\",\n",
    "                            \"n\": n,\n",
    "                            \"lower\": ppi_ci_tuned[0][coord],\n",
    "                            \"upper\": ppi_ci_tuned[1][coord],\n",
    "                            \"included\": (ppi_ci_tuned[0][coord] <= theta_star[coord]) & (ppi_ci_tuned[1][coord] >= theta_star[coord]),\n",
    "                            \"trial\": j,\n",
    "                            \"sigma\": sigma\n",
    "                        }\n",
    "                    ]\n",
    "                )\n",
    "            ]\n",
    "\n",
    "df = pd.concat(results, axis=0, ignore_index=True)\n",
    "df[\"width\"] = df[\"upper\"] - df[\"lower\"]"
   ]
  },
  {
   "cell_type": "code",
   "execution_count": null,
   "id": "2c513835",
   "metadata": {},
   "outputs": [],
   "source": [
    "palette = {'tuned PPI' : 'darkorange',\n",
    "           'PPI' : '#83C980',\n",
    "           'classical' : 'cornflowerblue'}\n",
    "linewidth=2\n",
    "n_unique_sigmas = df.sigma.nunique()\n",
    "\n",
    "fig, axs = plt.subplots(nrows=n_unique_sigmas, ncols=2, figsize=(8,2*n_unique_sigmas))\n",
    "for s in range(n_unique_sigmas): \n",
    "    cvg_ax = axs[s, 0]\n",
    "    sz_ax = axs[s, 1]\n",
    "    legend = False if s > 0 else True\n",
    "    sns.lineplot(ax=cvg_ax, data=df[df.sigma == sigmas[s]], x=\"n\", y=\"included\", linewidth=linewidth, errorbar=None, hue=\"method\", legend=False, palette=palette, alpha=0.8)\n",
    "    sns.lineplot(ax=sz_ax, data=df[df.sigma == sigmas[s]], x=\"n\", y=\"width\", linewidth=linewidth, errorbar=None, hue=\"method\", legend=legend, palette=palette, alpha=0.8)\n",
    "    cvg_ax.set_ylabel(\"coverage\")\n",
    "    cvg_ax.set_ylim([0.5,1])\n",
    "    cvg_ax.axhline(y=1-alpha, color=\"#888888\", linestyle='dotted')\n",
    "    if legend:\n",
    "        sz_ax.legend_.set_title(None)\n",
    "    \n",
    "sns.despine(top=True, right=True)\n",
    "plt.tight_layout()\n",
    "os.makedirs('./plots',exist_ok=True)\n",
    "plt.savefig('./plots/tuned-PPI-ols.pdf')"
   ]
  }
 ],
 "metadata": {
  "kernelspec": {
   "display_name": "Python 3 (ipykernel)",
   "language": "python",
   "name": "python3"
  },
  "language_info": {
   "codemirror_mode": {
    "name": "ipython",
    "version": 3
   },
   "file_extension": ".py",
   "mimetype": "text/x-python",
   "name": "python",
   "nbconvert_exporter": "python",
   "pygments_lexer": "ipython3",
   "version": "3.9.12"
  }
 },
 "nbformat": 4,
 "nbformat_minor": 5
}
