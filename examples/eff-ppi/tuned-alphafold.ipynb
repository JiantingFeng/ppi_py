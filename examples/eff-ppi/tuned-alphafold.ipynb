{
 "cells": [
  {
   "cell_type": "markdown",
   "id": "8d723b5d-e9a2-41e2-ba67-ff10b1d6ac9d",
   "metadata": {},
   "source": [
    "# Relating protein structure and post-translational modifications\n",
    "\n",
    "The goal is to characterize whether various types of post-translational modifications (PTMs) occur more frequently in intrinsically disordered regions (IDRs) of proteins (1). The target of inference is the odds ratio associating being in an IDR and having a PTM.\n",
    "This notebook shows how to do inference on the odds ratio via PPI by using structures predicted by AlphaFold (2) to predict IDRs. IDRs are predicted from structures following the strategy of Bludau et al. (3).\n",
    "\n",
    "1. L. M. Iakoucheva, P. Radivojac, C. J. Brown, T. R. O’Connor, J. G. Sikes, Z. Obradovic, A. K. Dunker, The importance of intrinsic disorder for protein phosphorylation. Nucleic Acids Res. 32, 1037–1049 (2004).\n",
    "2. J. Jumper, R. Evans, A. Pritzel, T. Green, M. Figurnov, O. Ronneberger, K. Tunyasuvunakool, R. Bates, A. Žídek, A. Potapenko, A. Bridgland, C. Meyer, S. A. A. Kohl, A. J. Ballard, A. Cowie, B. Romera-Paredes, S. Nikolov, R. Jain, J. Adler, T. Back, S. Petersen, D. Reiman, E. Clancy, M. Zielinski, M. Steinegger, M. Pacholska, T. Berghammer, S. Bodenstein, D. Silver, O. Vinyals, A. W. Senior, K. Kavukcuoglu, P. Kohli, D. Hassabis, Highly accurate protein structure prediction with AlphaFold. Nature 596(7873), 583–589 (2021). \n",
    "3. I. Bludau, S. Willems, W-F. Zeng, M. T. Strauss, F. M. Hansen, M. C. Tanzer, O. Karayel, B. A. Schulman, M. Mann, The structural context of posttranslational modifications at a proteome-wide scale. PLoS Biology 20(5), e3001636 (2022)."
   ]
  },
  {
   "cell_type": "markdown",
   "id": "14d2f594-03a8-4878-9454-42cc5ea3a81f",
   "metadata": {},
   "source": [
    "### Import necessary packages"
   ]
  },
  {
   "cell_type": "code",
   "execution_count": 1,
   "id": "4f57ecd3",
   "metadata": {},
   "outputs": [],
   "source": [
    "import os, sys\n",
    "\n",
    "sys.path.append(os.path.abspath(os.path.join(os.getcwd(), os.pardir)))\n",
    "import numpy as np\n",
    "import pandas as pd\n",
    "from ppi_py.datasets import load_dataset\n",
    "from ppi_py import ppi_mean_ci_tuned, classical_mean_ci\n",
    "from tqdm import tqdm\n",
    "from scipy.optimize import brentq\n",
    "from utils import *"
   ]
  },
  {
   "cell_type": "markdown",
   "id": "5cf90ae6",
   "metadata": {},
   "source": [
    "### Import the AlphaFold data set\n",
    "\n",
    "Load the data. The data set contains true indicators of disorder (```Y```), predicted indicators of disorder (```Yhat```), and indicators of a PTM (```phosphorylated```, ```ubiquitinated```, or ```acetylated```). Predictions of disorder are made based on AlphaFold predictions of structure."
   ]
  },
  {
   "cell_type": "code",
   "execution_count": 2,
   "id": "a6da3138",
   "metadata": {},
   "outputs": [],
   "source": [
    "dataset_folder = \"../data/\"\n",
    "data = load_dataset(dataset_folder, \"alphafold\")\n",
    "Y_total = data[\"Y\"]\n",
    "Yhat_total = data[\"Yhat\"]\n",
    "Z = data[\"phosphorylated\"].astype(\n",
    "    bool\n",
    ")  # Can choose from \"phosphorylated\", \"ubiquitinated\", or \"acetylated\""
   ]
  },
  {
   "cell_type": "markdown",
   "id": "8969f9db",
   "metadata": {},
   "source": [
    "### Problem setup\n",
    "\n",
    "Specify the error level (```alpha```), range of values for the labeled data set size (```ns```), and number of trials (```num_trials```).\n",
    "\n",
    "Compute the ground-truth value of the estimand."
   ]
  },
  {
   "cell_type": "code",
   "execution_count": 10,
   "id": "5b3c8f29",
   "metadata": {},
   "outputs": [],
   "source": [
    "alpha = 0.1\n",
    "ns = np.linspace(1000,5000,10).astype(int)\n",
    "num_trials = 100\n",
    "\n",
    "# Split into two subgroups for odds ratio calculation\n",
    "Y0_total, Y1_total = Y_total[~Z], Y_total[Z]\n",
    "Yhat0_total, Yhat1_total = Yhat_total[~Z], Yhat_total[Z]\n",
    "n0_total = Y0_total.shape[0]\n",
    "n1_total = Y1_total.shape[0]\n",
    "sample_ratio = n0_total / Y_total.shape[0]\n",
    "\n",
    "# True odds ratio\n",
    "mu0 = Y0_total.mean()\n",
    "mu1 = Y1_total.mean()\n",
    "odds_ratio = (mu1 / (1 - mu1)) / (mu0 / (1 - mu0))"
   ]
  },
  {
   "cell_type": "markdown",
   "id": "83ce18be",
   "metadata": {},
   "source": [
    "### Construct intervals\n",
    "\n",
    "Form confidence intervals for all methods and problem parameters. A dataframe with the following columns is formed:\n",
    "1. ```method``` (one of ```PPI```, ```Classical```, and ```tuned PPI```)\n",
    "2. ```n``` (labeled data set size, takes values in ```ns```)\n",
    "3. ```lower``` (lower endpoint of the confidence interval)\n",
    "4. ```upper``` (upper endpoint of the confidence interval)\n",
    "5. ```trial``` (index of trial, goes from ```0``` to ```num_trials-1```)"
   ]
  },
  {
   "cell_type": "code",
   "execution_count": 11,
   "id": "55c3df32",
   "metadata": {},
   "outputs": [],
   "source": [
    "def odds_ratio_ci(mu0_ci, mu1_ci):\n",
    "    # First construct CI of mu0/(1-mu0) and mu1/(1-mu1)\n",
    "    r0 = [mu0_ci[0] / (1 - mu0_ci[0]), mu0_ci[1] / (1 - mu0_ci[1])]\n",
    "    r1 = [mu1_ci[0] / (1 - mu1_ci[0]), mu1_ci[1] / (1 - mu1_ci[1])]\n",
    "    return r1[0] / r0[1], r1[1] / r0[0]"
   ]
  },
  {
   "cell_type": "code",
   "execution_count": 12,
   "id": "812f8fd5",
   "metadata": {},
   "outputs": [
    {
     "name": "stderr",
     "output_type": "stream",
     "text": [
      "100%|████████████████████████████████████████████████████| 10/10 [00:01<00:00,  7.64it/s]\n"
     ]
    }
   ],
   "source": [
    "# Run prediction-powered inference and classical inference for many values of n\n",
    "results = []\n",
    "for i in tqdm(range(ns.shape[0])):\n",
    "    for j in range(num_trials):\n",
    "        # Split the data\n",
    "        n = ns[i]\n",
    "        _n0 = int(n * sample_ratio)\n",
    "        _n1 = n - _n0\n",
    "        rand_idx_0 = np.random.permutation(n0_total)\n",
    "        rand_idx_1 = np.random.permutation(n1_total)\n",
    "        _Yhat0 = Yhat0_total[rand_idx_0[:_n0]]\n",
    "        _Y0 = Y0_total[rand_idx_0[:_n0]]\n",
    "        _Yhat0_unlabeled = Yhat0_total[rand_idx_0[_n0:]]\n",
    "        _Yhat1 = Yhat1_total[rand_idx_1[:_n1]]\n",
    "        _Y1 = Y1_total[rand_idx_1[:_n1]]\n",
    "        _Yhat1_unlabeled = Yhat1_total[rand_idx_1[_n1:]]\n",
    "\n",
    "        # PPI\n",
    "        ppi_mu0_ci = ppi_mean_ci_tuned(\n",
    "            _Y0, _Yhat0, _Yhat0_unlabeled, lhat=1, alpha=alpha / 2\n",
    "        )\n",
    "        ppi_mu1_ci = ppi_mean_ci_tuned(\n",
    "            _Y1, _Yhat1, _Yhat1_unlabeled, lhat=1, alpha=alpha / 2\n",
    "        )\n",
    "        ppi_odds_ratio_ci = odds_ratio_ci(ppi_mu0_ci, ppi_mu1_ci)\n",
    "\n",
    "        ppi_mu0_ci_tuned = ppi_mean_ci_tuned(\n",
    "            _Y0, _Yhat0, _Yhat0_unlabeled, alpha=alpha / 2\n",
    "        )\n",
    "        ppi_mu1_ci_tuned = ppi_mean_ci_tuned(\n",
    "            _Y1, _Yhat1, _Yhat1_unlabeled, alpha=alpha / 2\n",
    "        )\n",
    "        ppi_odds_ratio_ci_tuned = odds_ratio_ci(ppi_mu0_ci_tuned, ppi_mu1_ci_tuned)\n",
    "\n",
    "        # Classical interval\n",
    "        classical_mu0_ci = classical_mean_ci(_Y0, alpha=alpha / 2)\n",
    "        classical_mu1_ci = classical_mean_ci(_Y1, alpha=alpha / 2)\n",
    "        classical_odds_ratio_ci = odds_ratio_ci(\n",
    "            classical_mu0_ci, classical_mu1_ci\n",
    "        )\n",
    "\n",
    "        # Append results\n",
    "        results += [\n",
    "            pd.DataFrame(\n",
    "                [\n",
    "                    {\n",
    "                        \"method\": \"PPI\",\n",
    "                        \"n\": n,\n",
    "                        \"lower\": ppi_odds_ratio_ci[0],\n",
    "                        \"upper\": ppi_odds_ratio_ci[1],\n",
    "                        \"included\": (ppi_odds_ratio_ci[0] <= odds_ratio) & (ppi_odds_ratio_ci[1] >= odds_ratio),\n",
    "                        \"trial\": j,\n",
    "                    }\n",
    "                ]\n",
    "            )\n",
    "        ]\n",
    "        results += [\n",
    "            pd.DataFrame(\n",
    "                [\n",
    "                    {\n",
    "                        \"method\": \"tuned PPI\",\n",
    "                        \"n\": n,\n",
    "                        \"lower\": ppi_odds_ratio_ci_tuned[0],\n",
    "                        \"upper\": ppi_odds_ratio_ci_tuned[1],\n",
    "                        \"included\": (ppi_odds_ratio_ci_tuned[0] <= odds_ratio) & (ppi_odds_ratio_ci_tuned[1] >= odds_ratio),\n",
    "                        \"trial\": j,\n",
    "                    }\n",
    "                ]\n",
    "            )\n",
    "        ]\n",
    "        results += [\n",
    "            pd.DataFrame(\n",
    "                [\n",
    "                    {\n",
    "                        \"method\": \"classical\",\n",
    "                        \"n\": n,\n",
    "                        \"lower\": classical_odds_ratio_ci[0],\n",
    "                        \"upper\": classical_odds_ratio_ci[1],\n",
    "                        \"included\": (classical_odds_ratio_ci[0] <= odds_ratio) & (classical_odds_ratio_ci[1] >= odds_ratio),\n",
    "                        \"trial\": j\n",
    "                    }\n",
    "                ]\n",
    "            )\n",
    "        ]\n",
    "\n",
    "df = pd.concat(results, axis=0, ignore_index=True)\n",
    "df[\"width\"] = df[\"upper\"] - df[\"lower\"]"
   ]
  },
  {
   "cell_type": "code",
   "execution_count": 13,
   "id": "fbe807d2",
   "metadata": {},
   "outputs": [
    {
     "data": {
      "image/png": "[encoded data removed]",
      "text/plain": [
       "<Figure size 576x144 with 2 Axes>"
      ]
     },
     "metadata": {
      "needs_background": "light"
     },
     "output_type": "display_data"
    }
   ],
   "source": [
    "palette = {'tuned PPI' : 'darkorange',\n",
    "           'PPI' : '#83C980',\n",
    "           'classical' : 'cornflowerblue'}\n",
    "linewidth=2\n",
    "\n",
    "fig, axs = plt.subplots(nrows=1, ncols=2, figsize=(8,2), sharex=True)\n",
    "cvg_ax = axs[0]\n",
    "sz_ax = axs[1]\n",
    "sns.lineplot(ax=cvg_ax, data=df, x=\"n\", y=\"included\", linewidth=linewidth, errorbar=None, hue=\"method\", legend=False, palette=palette, alpha=0.8)\n",
    "sns.lineplot(ax=sz_ax, data=df, x=\"n\", y=\"width\", linewidth=linewidth, errorbar=None, hue=\"method\", legend=True, palette=palette, alpha=0.8)\n",
    "cvg_ax.set_ylabel(\"coverage\")\n",
    "cvg_ax.set_ylim([0.5,1.03])\n",
    "cvg_ax.axhline(y=1-alpha, color=\"#888888\", linestyle='dotted')\n",
    "cvg_ax.set_xlabel('n')\n",
    "sz_ax.set_ylabel('width')\n",
    "sz_ax.legend_.set_title(None)\n",
    "sns.despine(top=True, right=True)\n",
    "plt.tight_layout()\n",
    "os.makedirs('./plots',exist_ok=True)\n",
    "plt.savefig('./plots/tuned-PPI-mean.pdf')"
   ]
  }
 ],
 "metadata": {
  "kernelspec": {
   "display_name": "Python 3 (ipykernel)",
   "language": "python",
   "name": "python3"
  },
  "language_info": {
   "codemirror_mode": {
    "name": "ipython",
    "version": 3
   },
   "file_extension": ".py",
   "mimetype": "text/x-python",
   "name": "python",
   "nbconvert_exporter": "python",
   "pygments_lexer": "ipython3",
   "version": "3.9.12"
  }
 },
 "nbformat": 4,
 "nbformat_minor": 5
}
